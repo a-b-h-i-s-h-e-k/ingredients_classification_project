{
  "cells": [
    {
      "cell_type": "markdown",
      "metadata": {
        "id": "RSpJxW45u5EO"
      },
      "source": [
        "# **Image-based Ingredients Classification**"
      ]
    },
    {
      "cell_type": "markdown",
      "metadata": {
        "id": "R0Nwhxr7vbGG"
      },
      "source": [
        "In this project, our goal is to detect the ingredients based on the image dataset. The image dataset includes 101000 images from 101 categories. There is another dataset called *Ingredients101* which holds ingredients information for each images. In the following steps, the materials used in the project are explained in detail."
      ]
    },
    {
      "cell_type": "markdown",
      "metadata": {
        "id": "hAZPQY5g0l42"
      },
      "source": [
        "# Used libraries"
      ]
    },
    {
      "cell_type": "code",
      "execution_count": 1,
      "metadata": {
        "id": "XHzmiz57uqvq"
      },
      "outputs": [],
      "source": [
        "import os\n",
        "import zipfile\n",
        "import gdown\n",
        "%matplotlib inline\n",
        "import sys\n",
        "import cv2\n",
        "import numpy as np\n",
        "import torch\n",
        "import torch.utils.data as data\n",
        "from torch.autograd import Variable\n",
        "import torch.nn as nn\n",
        "from torchvision import datasets, transforms\n",
        "from glob import glob\n",
        "import pandas as pd\n",
        "import matplotlib.pyplot as plt\n",
        "import torchvision.models as models\n",
        "from sklearn.preprocessing import MultiLabelBinarizer\n",
        "from tqdm import tqdm, tqdm_notebook, tnrange\n",
        "import matplotlib.pyplot as plt\n",
        "import torchvision.models as models\n",
        "import torch.nn.functional as F\n",
        "from sklearn.metrics import f1_score, precision_score, recall_score\n",
        "from collections import defaultdict\n",
        "import warnings\n",
        "from tables import NaturalNameWarning"
      ]
    },
    {
      "cell_type": "markdown",
      "metadata": {
        "id": "mU7pijcS48ld"
      },
      "source": [
        "**os**: Provides a way to interact with the operating system, including file and directory operations.\n",
        "\n",
        "**zipfile**: Allows for reading and writing ZIP archives, which are compressed files containing one or more files.\n",
        "\n",
        "**gdown**: A module to download files from Google Drive using their URL.\n",
        "\n",
        "**sys**: Provides access to some variables used or maintained by the Python interpreter and to functions that interact strongly with the interpreter.\n",
        "\n",
        "**cv2 (OpenCV)**: A library of programming functions mainly aimed at real-time computer vision. It is used for image processing and computer vision tasks.\n",
        "\n",
        "**numpy (np)**: A fundamental package for scientific computing with Python. It provides support for large multi-dimensional arrays and matrices, along with a large collection of high-level mathematical functions to operate on these arrays.\n",
        "\n",
        "**torch**: The main package for PyTorch, an open-source machine learning library based on the Torch library, used for applications such as natural language processing.\n",
        "\n",
        "**torch.utils.data**: A subpackage in PyTorch that provides tools for loading data, such as datasets and dataloaders, to feed into models.\n",
        "\n",
        "**torch.autograd**: A PyTorch package for automatic differentiation. It records operations performed on tensors to compute gradients for optimization.\n",
        "\n",
        "**torch.nn**: A subpackage in PyTorch that provides neural network layers and functions. It includes various modules and loss functions.\n",
        "\n",
        "**torchvision.datasets**: A package that provides standard datasets for computer vision, such as CIFAR-10, MNIST, and ImageNet.\n",
        "\n",
        "**torchvision.transforms**: A module that provides common image transformations for preprocessing data, such as resizing, cropping, and normalization.\n",
        "\n",
        "**glob**: A module that finds all the pathnames matching a specified pattern according to the rules used by the Unix shell.\n",
        "\n",
        "**pandas (pd)**: A library providing high-performance, easy-to-use data structures and data analysis tools for Python. It is particularly useful for handling structured data.\n",
        "\n",
        "**matplotlib.pyplot**: A module in Matplotlib, a plotting library for creating static, interactive, and animated visualizations in Python. pyplot provides a MATLAB-like interface.\n",
        "\n",
        "**torchvision.models**: A module that includes pre-trained models such as VGG, ResNet, and others for tasks like image classification.\n",
        "\n",
        "**sklearn.preprocessing.MultiLabelBinarizer**: A tool from scikit-learn (a machine learning library) that transforms a list of labels into a binary matrix for multi-label classification.\n",
        "\n",
        "**tqdm, tqdm_notebook, tnrange**: Modules that provide fast, extensible progress bars for loops. tqdm_notebook and tnrange are specific to Jupyter notebooks.\n",
        "\n",
        "**torch.nn.functional**: Provides tensor operations for neural network layers.\n",
        "\n",
        "**sklearn.metrics**: Offers functions to evaluate the performance of machine learning models.\n",
        "\n",
        "**collections.defaultdict**: Enhances dictionaries by providing default values for non-existent keys."
      ]
    },
    {
      "cell_type": "markdown",
      "metadata": {
        "id": "L4YDJyo1V7kb"
      },
      "source": [
        "# Setting up the environment and downloading necessary datasets"
      ]
    },
    {
      "cell_type": "markdown",
      "metadata": {
        "id": "TUzb6jepWa7u"
      },
      "source": [
        "By using os library, Kaggle API and shell command, necessary datasets are downloaded."
      ]
    },
    {
      "cell_type": "markdown",
      "metadata": {
        "id": "pXvt4gob1oco"
      },
      "source": [
        "We are importing the OS module, which provides a portable way to interact with the operating system. We use it to set environment variables and execute shell commands.\n",
        "\n",
        "The part sets environment variables for the Kaggle API credentials. Kaggle API requires authentication, so we set the KAGGLE_USERNAME and KAGGLE_KEY environment variables to the appropriate values."
      ]
    },
    {
      "cell_type": "code",
      "execution_count": 2,
      "metadata": {
        "colab": {
          "base_uri": "https://localhost:8080/"
        },
        "id": "2-7lDhG16Pec",
        "outputId": "e5b39031-2ccd-4826-be8c-d357e02b42c3"
      },
      "outputs": [
        {
          "name": "stdout",
          "output_type": "stream",
          "text": [
            "Download completed!\n"
          ]
        }
      ],
      "source": [
        "# Set Kaggle API credentials environment variables\n",
        "os.environ[\"KAGGLE_USERNAME\"] = \"\"\n",
        "os.environ[\"KAGGLE_KEY\"] = \"\"\n",
        "\n",
        "# Download the dataset\n",
        "dataset_name = \"kmader/food41\"  # Replace with the username and dataset name\n",
        "os.system(f\"kaggle datasets download -d {dataset_name}\")\n",
        "print(\"Download completed!\")\n"
      ]
    },
    {
      "cell_type": "markdown",
      "metadata": {
        "id": "5NldM6Osa-Z5"
      },
      "source": [
        "unzip_file method takes a file path and an extraction path as parameter. It unzips the given zip file to a specific path mentioned."
      ]
    },
    {
      "cell_type": "code",
      "execution_count": 3,
      "metadata": {
        "colab": {
          "base_uri": "https://localhost:8080/"
        },
        "id": "mHAJ0uA16ckF",
        "outputId": "e1d07f3a-9452-41c8-c8cd-198fca14595b"
      },
      "outputs": [
        {
          "name": "stdout",
          "output_type": "stream",
          "text": [
            "Dataset is unzipped!\n"
          ]
        }
      ],
      "source": [
        "def unzip_file(zip_file_path, extract_to_path):\n",
        "  with zipfile.ZipFile(zip_file_path, 'r') as zip_ref:\n",
        "        zip_ref.extractall(extract_to_path)\n",
        "\"\"\"\n",
        "    Unzips a ZIP file to a specified directory.\n",
        "\n",
        "    Parameters:\n",
        "        zip_file_path (str): The path to the ZIP file.\n",
        "        extract_to_path (str): The directory where the contents of the ZIP file will be extracted.\n",
        "\n",
        "    Returns:\n",
        "        None\n",
        "\"\"\"\n",
        "\n",
        "# Example usage:\n",
        "zip_file_path = '/content/food41.zip'\n",
        "rootfolder = '/content/food41'\n",
        "unzip_file(zip_file_path, rootfolder)\n",
        "print(\"Dataset is unzipped!\")"
      ]
    },
    {
      "cell_type": "markdown",
      "metadata": {
        "id": "Cj3aebW8cpo6"
      },
      "source": [
        "By using gdown library, we download Ingredients101 dataset from Google Drive."
      ]
    },
    {
      "cell_type": "code",
      "execution_count": 4,
      "metadata": {
        "colab": {
          "base_uri": "https://localhost:8080/",
          "height": 105
        },
        "id": "9Mv5JoQt6wxh",
        "outputId": "33058d48-b7fe-4b7e-bdb4-c970b3f77bb4"
      },
      "outputs": [
        {
          "name": "stderr",
          "output_type": "stream",
          "text": [
            "Downloading...\n",
            "From: https://drive.google.com/uc?id=14ztu2gjdowZdMdCvo1tAZJ0aK5rMs4kb\n",
            "To: /content/Ingredients101.zip\n",
            "100%|██████████| 1.79M/1.79M [00:00<00:00, 124MB/s]\n"
          ]
        },
        {
          "data": {
            "application/vnd.google.colaboratory.intrinsic+json": {
              "type": "string"
            },
            "text/plain": [
              "'Ingredients101.zip'"
            ]
          },
          "execution_count": 4,
          "metadata": {},
          "output_type": "execute_result"
        }
      ],
      "source": [
        "# URL of the first file\n",
        "url_ingredients101 = 'https://drive.google.com/uc?id=14ztu2gjdowZdMdCvo1tAZJ0aK5rMs4kb'\n",
        "\n",
        "# Destination path for the first file\n",
        "output1 = 'Ingredients101.zip'\n",
        "\n",
        "# Download the first file\n",
        "gdown.download(url_ingredients101, output1, quiet=False)"
      ]
    },
    {
      "cell_type": "markdown",
      "metadata": {
        "id": "KvmrFkgTdyVd"
      },
      "source": [
        "After downloading Ingredients101, we unzip it by using unzip_file function."
      ]
    },
    {
      "cell_type": "code",
      "execution_count": 5,
      "metadata": {
        "colab": {
          "base_uri": "https://localhost:8080/"
        },
        "id": "l72_0hxD62df",
        "outputId": "ee38ce40-3b23-4681-fb6f-ceaa33d410f3"
      },
      "outputs": [
        {
          "name": "stdout",
          "output_type": "stream",
          "text": [
            "Extraction completed.\n"
          ]
        }
      ],
      "source": [
        "# Define the paths to the zip files\n",
        "zip_file1 = 'Ingredients101.zip'\n",
        "\n",
        "# Define the directory to extract the files to\n",
        "extract_dir1 = 'Ingredients101'\n",
        "\n",
        "# Create directories if they don't exist\n",
        "os.makedirs(extract_dir1, exist_ok=True)\n",
        "\n",
        "# Extract the first zip file\n",
        "unzip_file(zip_file1, extract_dir1)\n",
        "\n",
        "print(\"Extraction completed.\")"
      ]
    },
    {
      "cell_type": "markdown",
      "metadata": {
        "id": "hI1AcH3hfKW0"
      },
      "source": [
        "This code deletes the ZIP file named 'Ingredients101.zip' from the current directory for saving the space in google colab to work it efficiently."
      ]
    },
    {
      "cell_type": "code",
      "execution_count": 6,
      "metadata": {
        "colab": {
          "base_uri": "https://localhost:8080/"
        },
        "id": "IcqNBtIZ66nd",
        "outputId": "1420141f-0271-485a-d3f7-e54183452d4c"
      },
      "outputs": [
        {
          "name": "stdout",
          "output_type": "stream",
          "text": [
            "Zip files deleted.\n"
          ]
        }
      ],
      "source": [
        "# Delete the zip file\n",
        "os.remove('Ingredients101.zip')\n",
        "\n",
        "print(\"Zip files deleted.\")"
      ]
    },
    {
      "cell_type": "markdown",
      "metadata": {
        "id": "_j3P_R56htfF"
      },
      "source": [
        "# Preprocessing ingredients dataset"
      ]
    },
    {
      "cell_type": "markdown",
      "metadata": {
        "id": "iKEQMsSofu3d"
      },
      "source": [
        "For this project, since the datasets are too large files to work with, using cuda or GPU is highly required."
      ]
    },
    {
      "cell_type": "code",
      "execution_count": 7,
      "metadata": {
        "id": "sPnFLHub69sb"
      },
      "outputs": [],
      "source": [
        "use_cuda = True\n",
        "device = torch.device(\"cuda\" if use_cuda else \"cpu\")\n",
        "torch.manual_seed(42)\n",
        "BASE_PATH = '../content/Ingredients101/Ingredients101'"
      ]
    },
    {
      "cell_type": "code",
      "execution_count": 8,
      "metadata": {
        "colab": {
          "base_uri": "https://localhost:8080/"
        },
        "id": "xLDOlgOJ7EiJ",
        "outputId": "3545f509-dd32-4d8d-910d-f598d7e1fba4"
      },
      "outputs": [
        {
          "name": "stdout",
          "output_type": "stream",
          "text": [
            "['bruschetta', 'pizza', 'red_velvet_cake', 'creme_brulee', 'bibimbap', 'risotto', 'peking_duck', 'churros', 'spaghetti_bolognese', 'seaweed_salad', 'french_toast', 'fried_calamari', 'cheese_plate', 'lobster_roll_sandwich', 'pulled_pork_sandwich', 'cup_cakes', 'ceviche', 'caprese_salad', 'gnocchi', 'strawberry_shortcake', 'tiramisu', 'sushi', 'filet_mignon', 'beef_tartare', 'lobster_bisque', 'apple_pie', 'shrimp_and_grits', 'scallops', 'takoyaki', 'cheesecake', 'gyoza', 'carrot_cake', 'greek_salad', 'chicken_curry', 'baklava', 'escargots', 'panna_cotta', 'frozen_yogurt', 'hummus', 'garlic_bread', 'chicken_wings', 'waffles', 'chocolate_cake', 'deviled_eggs', 'samosa', 'grilled_salmon', 'hot_dog', 'beef_carpaccio', 'macarons', 'oysters', 'huevos_rancheros', 'foie_gras', 'pancakes', 'chocolate_mousse', 'ramen', 'hot_and_sour_soup', 'tuna_tartare', 'tacos', 'clam_chowder', 'french_fries', 'hamburger', 'falafel', 'macaroni_and_cheese', 'ravioli', 'steak', 'beet_salad', 'fish_and_chips', 'crab_cakes', 'chicken_quesadilla', 'pad_thai', 'pork_chop', 'french_onion_soup', 'guacamole', 'beignets', 'miso_soup', 'omelette', 'eggs_benedict', 'edamame', 'cannoli', 'mussels', 'lasagna', 'caesar_salad', 'onion_rings', 'pho', 'ice_cream', 'paella', 'club_sandwich', 'breakfast_burrito', 'fried_rice', 'sashimi', 'croque_madame', 'donuts', 'baby_back_ribs', 'nachos', 'dumplings', 'grilled_cheese_sandwich', 'prime_rib', 'poutine', 'bread_pudding', 'spring_rolls', 'spaghetti_carbonara']\n"
          ]
        }
      ],
      "source": [
        "print(os.listdir(\"../content/food41/images/\"))\n",
        "\n",
        "MICRO_DATA = True # debugging the model with minimal subset of the data\n",
        "SAMPLE_TRAINING = False # make train set smaller for faster iteration\n",
        "IMG_SIZE = (384, 384) # ensure that all images are in a standard size"
      ]
    },
    {
      "cell_type": "markdown",
      "metadata": {
        "id": "MoBH4TdDi4ws"
      },
      "source": [
        " Here we are reading the contents of the 'ingredients_simplified.txt' file, which contains a list of ingredients, and splits it into individual ingredient names stored in the ingredients list."
      ]
    },
    {
      "cell_type": "code",
      "execution_count": 9,
      "metadata": {
        "id": "plgJ1lwv7Fve"
      },
      "outputs": [],
      "source": [
        "#Ingredients for each class\n",
        "f = open('/content/Ingredients101/Ingredients101/Annotations/ingredients_simplified.txt', \"r\")\n",
        "ingredients = f.read().split('\\n')\n",
        "f.close()"
      ]
    },
    {
      "cell_type": "markdown",
      "metadata": {
        "id": "0eqGGqxci28l"
      },
      "source": [
        "Here we are reading the contents of the 'classes.txt' file, which contains a list of class names, and splits it into individual class names stored in the classes list."
      ]
    },
    {
      "cell_type": "code",
      "execution_count": 10,
      "metadata": {
        "id": "gMaw95vM7J7f"
      },
      "outputs": [],
      "source": [
        "#Classes\n",
        "f = open('/content/Ingredients101/Ingredients101/Annotations/classes.txt', \"r\")\n",
        "classes = f.read().split('\\n')\n",
        "f.close()"
      ]
    },
    {
      "cell_type": "markdown",
      "metadata": {
        "id": "hJctIQThj_1C"
      },
      "source": [
        "This code reads the contents of the 'baseIngredients.txt' file, which contains a list of base ingredients, and splits it into individual base ingredient names stored in the base_ing list. Finally, it closes the file after reading."
      ]
    },
    {
      "cell_type": "code",
      "execution_count": 11,
      "metadata": {
        "id": "YqnZrkNS7OFO"
      },
      "outputs": [],
      "source": [
        "#Base Ingredients\n",
        "f = open('/content/Ingredients101/Ingredients101/ingredients_simplification/baseIngredients.txt', \"r\")\n",
        "base_ing = f.read().split('\\n')\n",
        "f.close()"
      ]
    },
    {
      "cell_type": "code",
      "execution_count": 12,
      "metadata": {
        "colab": {
          "base_uri": "https://localhost:8080/"
        },
        "id": "UEI9uhIq7UoE",
        "outputId": "9c5c4066-a5d6-4187-b534-341503a9ef34"
      },
      "outputs": [
        {
          "data": {
            "text/plain": [
              "['apple_pie',\n",
              " 'baby_back_ribs',\n",
              " 'baklava',\n",
              " 'beef_carpaccio',\n",
              " 'beef_tartare',\n",
              " 'beet_salad',\n",
              " 'beignets',\n",
              " 'bibimbap',\n",
              " 'bread_pudding',\n",
              " 'breakfast_burrito',\n",
              " 'bruschetta',\n",
              " 'caesar_salad',\n",
              " 'cannoli',\n",
              " 'caprese_salad',\n",
              " 'carrot_cake',\n",
              " 'ceviche',\n",
              " 'cheesecake',\n",
              " 'cheese_plate',\n",
              " 'chicken_curry',\n",
              " 'chicken_quesadilla',\n",
              " 'chicken_wings',\n",
              " 'chocolate_cake',\n",
              " 'chocolate_mousse',\n",
              " 'churros',\n",
              " 'clam_chowder',\n",
              " 'club_sandwich',\n",
              " 'crab_cakes',\n",
              " 'creme_brulee',\n",
              " 'croque_madame',\n",
              " 'cup_cakes',\n",
              " 'deviled_eggs',\n",
              " 'donuts',\n",
              " 'dumplings',\n",
              " 'edamame',\n",
              " 'eggs_benedict',\n",
              " 'escargots',\n",
              " 'falafel',\n",
              " 'filet_mignon',\n",
              " 'fish_and_chips',\n",
              " 'foie_gras',\n",
              " 'french_fries',\n",
              " 'french_onion_soup',\n",
              " 'french_toast',\n",
              " 'fried_calamari',\n",
              " 'fried_rice',\n",
              " 'frozen_yogurt',\n",
              " 'garlic_bread',\n",
              " 'gnocchi',\n",
              " 'greek_salad',\n",
              " 'grilled_cheese_sandwich',\n",
              " 'grilled_salmon',\n",
              " 'guacamole',\n",
              " 'gyoza',\n",
              " 'hamburger',\n",
              " 'hot_and_sour_soup',\n",
              " 'hot_dog',\n",
              " 'huevos_rancheros',\n",
              " 'hummus',\n",
              " 'ice_cream',\n",
              " 'lasagna',\n",
              " 'lobster_bisque',\n",
              " 'lobster_roll_sandwich',\n",
              " 'macaroni_and_cheese',\n",
              " 'macarons',\n",
              " 'miso_soup',\n",
              " 'mussels',\n",
              " 'nachos',\n",
              " 'omelette',\n",
              " 'onion_rings',\n",
              " 'oysters',\n",
              " 'pad_thai',\n",
              " 'paella',\n",
              " 'pancakes',\n",
              " 'panna_cotta',\n",
              " 'peking_duck',\n",
              " 'pho',\n",
              " 'pizza',\n",
              " 'pork_chop',\n",
              " 'poutine',\n",
              " 'prime_rib',\n",
              " 'pulled_pork_sandwich',\n",
              " 'ramen',\n",
              " 'ravioli',\n",
              " 'red_velvet_cake',\n",
              " 'risotto',\n",
              " 'samosa',\n",
              " 'sashimi',\n",
              " 'scallops',\n",
              " 'seaweed_salad',\n",
              " 'shrimp_and_grits',\n",
              " 'spaghetti_bolognese',\n",
              " 'spaghetti_carbonara',\n",
              " 'spring_rolls',\n",
              " 'steak',\n",
              " 'strawberry_shortcake',\n",
              " 'sushi',\n",
              " 'tacos',\n",
              " 'takoyaki',\n",
              " 'tiramisu',\n",
              " 'tuna_tartare',\n",
              " 'waffles',\n",
              " '']"
            ]
          },
          "execution_count": 12,
          "metadata": {},
          "output_type": "execute_result"
        }
      ],
      "source": [
        "# Print the read files\n",
        "base_ing\n",
        "ingredients\n",
        "classes"
      ]
    },
    {
      "cell_type": "markdown",
      "metadata": {
        "id": "Cms480iSlMbw"
      },
      "source": [
        "We split each string in the ingredients list by commas and creates a new list called new_ingredients containing these split strings. Essentially, it's breaking down each ingredient name that might have multiple components separated by commas into individual components and storing them as sublists within the new_ingredients list."
      ]
    },
    {
      "cell_type": "code",
      "execution_count": 13,
      "metadata": {
        "colab": {
          "base_uri": "https://localhost:8080/"
        },
        "id": "0cs_GHuH7Zut",
        "outputId": "674b4dd5-97ea-4bb5-b275-f9d8269597cc"
      },
      "outputs": [
        {
          "data": {
            "text/plain": [
              "[['butter', 'flour', 'sugar', 'brown sugar', 'apple', 'cinnamon', 'nut'],\n",
              " ['baby back ribs',\n",
              "  'apple',\n",
              "  'salt',\n",
              "  'mustard',\n",
              "  'brown sugar',\n",
              "  'worcestershire',\n",
              "  'gin',\n",
              "  'chili'],\n",
              " ['nut',\n",
              "  'cinnamon',\n",
              "  'bread',\n",
              "  'butter',\n",
              "  'phyllo dough',\n",
              "  'sugar',\n",
              "  'honey',\n",
              "  'lemon',\n",
              "  'baklava'],\n",
              " ['beef', 'lemon', 'gin', 'salt', 'pepper', 'baby arugula', 'asiago'],\n",
              " ['fat',\n",
              "  'steak',\n",
              "  'gin',\n",
              "  'shallot',\n",
              "  'parsley',\n",
              "  'capers',\n",
              "  'worcestershire',\n",
              "  'egg',\n",
              "  'black pepper',\n",
              "  'crostini'],\n",
              " ['beets',\n",
              "  'spinach',\n",
              "  'gorgonzola',\n",
              "  'nut',\n",
              "  'red wine',\n",
              "  'dijon mustard',\n",
              "  'gin',\n",
              "  'salt',\n",
              "  'black pepper',\n",
              "  'herbs'],\n",
              " ['water',\n",
              "  'sugar',\n",
              "  'yeast',\n",
              "  'egg',\n",
              "  'salt',\n",
              "  'milk',\n",
              "  'butter',\n",
              "  'flour',\n",
              "  'sugar'],\n",
              " ['grain',\n",
              "  'steak',\n",
              "  'soybean sprouts',\n",
              "  'spinach',\n",
              "  'cucumber',\n",
              "  'zucchini',\n",
              "  'carrot',\n",
              "  'garlic',\n",
              "  'scallions',\n",
              "  'soy',\n",
              "  'oil',\n",
              "  'seeds',\n",
              "  'salt',\n",
              "  'pepper',\n",
              "  'oil',\n",
              "  'egg',\n",
              "  'pepper',\n",
              "  'sugar',\n",
              "  'water'],\n",
              " ['bread', 'milk', 'sugar', 'butter', 'salt', 'egg', 'vanilla'],\n",
              " ['rolls', 'bacon', 'egg', 'brie', 'onion', 'cheddar', 'flour', 'salsa'],\n",
              " ['plum',\n",
              "  'garlic',\n",
              "  'gin',\n",
              "  'balsamic vinegar',\n",
              "  'basil',\n",
              "  'salt',\n",
              "  'black pepper',\n",
              "  'baguette'],\n",
              " ['garlic',\n",
              "  'plain greek yogurt',\n",
              "  'cheese',\n",
              "  'worcestershire',\n",
              "  'dijon mustard',\n",
              "  'lemon',\n",
              "  'anchovy',\n",
              "  'salt',\n",
              "  'pepper',\n",
              "  'lettuce',\n",
              "  'croutons'],\n",
              " ['sugar',\n",
              "  'cheese',\n",
              "  'almond',\n",
              "  'chocolate',\n",
              "  'liqueur',\n",
              "  'cannoli shells',\n",
              "  'cocoa',\n",
              "  'cocktail'],\n",
              " ['balsamic vinegar',\n",
              "  'tomato',\n",
              "  'cheese',\n",
              "  'basil',\n",
              "  'oil',\n",
              "  'black pepper',\n",
              "  'salt'],\n",
              " ['flour',\n",
              "  'baking',\n",
              "  'cinnamon',\n",
              "  'salt',\n",
              "  'sugar',\n",
              "  'egg',\n",
              "  'oil',\n",
              "  'apple',\n",
              "  'vanilla',\n",
              "  'carrot',\n",
              "  'cheese',\n",
              "  'butter',\n",
              "  'sugar',\n",
              "  'milk'],\n",
              " ['red snapper',\n",
              "  'lime',\n",
              "  'lemon',\n",
              "  'onion',\n",
              "  'tomato',\n",
              "  'serrano chilies',\n",
              "  'salt',\n",
              "  'oregano',\n",
              "  'pepper',\n",
              "  'cayenne pepper',\n",
              "  'cilantro',\n",
              "  'avocado',\n",
              "  'tortillas'],\n",
              " ['ham', 'sugar', 'butter', 'cheese', 'egg', 'vanilla'],\n",
              " ['fig', 'brie', 'honey'],\n",
              " ['chicken',\n",
              "  'black pepper',\n",
              "  'salt',\n",
              "  'curry',\n",
              "  'oil',\n",
              "  'onion',\n",
              "  'cloves',\n",
              "  'gin',\n",
              "  'broth',\n",
              "  'corn starch',\n",
              "  'sugar',\n",
              "  'peas',\n",
              "  'greek yogurt',\n",
              "  'cilantro'],\n",
              " ['chicken',\n",
              "  'cheddar',\n",
              "  'cumin',\n",
              "  'jalapeno chilies',\n",
              "  'wheat tortillas',\n",
              "  'salsa'],\n",
              " ['chicken', 'soy', 'garlic', 'sugar'],\n",
              " ['whipping', 'chocolate', 'sugar', 'butter'],\n",
              " ['vanilla', 'salt', 'egg', 'sugar', 'chocolate', 'chocolate'],\n",
              " ['water', 'butter', 'salt', 'sugar', 'flour', 'egg', 'oil', 'cinnamon'],\n",
              " ['salt',\n",
              "  'flour',\n",
              "  'milk',\n",
              "  'fat',\n",
              "  'onion',\n",
              "  'celery',\n",
              "  'potato',\n",
              "  'clam',\n",
              "  'butter'],\n",
              " ['bacon',\n",
              "  \"morningstar farms chick'n patties\",\n",
              "  'fat',\n",
              "  'bread',\n",
              "  'lettuce',\n",
              "  'cheddar',\n",
              "  'tomato'],\n",
              " ['crab',\n",
              "  'butter',\n",
              "  'shallot',\n",
              "  'salt',\n",
              "  'egg',\n",
              "  'worcestershire',\n",
              "  'paprika',\n",
              "  'black pepper',\n",
              "  'tartar',\n",
              "  'lemon',\n",
              "  'pepper',\n",
              "  'parsley',\n",
              "  'bread',\n",
              "  'bread'],\n",
              " ['butter', 'egg', 'sugar', 'whipping', 'vanilla', 'berries'],\n",
              " ['butter',\n",
              "  'flour',\n",
              "  'milk',\n",
              "  'cheese',\n",
              "  'thyme',\n",
              "  'nut',\n",
              "  'salt',\n",
              "  'pepper',\n",
              "  'bread',\n",
              "  'dijon mustard',\n",
              "  'bacon',\n",
              "  'egg'],\n",
              " ['cake',\n",
              "  'butter',\n",
              "  'caster sugar',\n",
              "  'flour',\n",
              "  'soda',\n",
              "  'baking',\n",
              "  'vanilla essence',\n",
              "  'milk',\n",
              "  'icing',\n",
              "  'sugar'],\n",
              " ['egg', 'mayonnaise', 'dijon mustard', 'paprika', 'salt', 'pepper', 'chives'],\n",
              " ['nut',\n",
              "  'spray',\n",
              "  'sugar',\n",
              "  'butter',\n",
              "  'egg',\n",
              "  'flour',\n",
              "  'baking',\n",
              "  'baking',\n",
              "  'salt',\n",
              "  'nut',\n",
              "  'butter',\n",
              "  'glaze',\n",
              "  'sugar',\n",
              "  'fat',\n",
              "  'maple syrup',\n",
              "  'colored sprinkles'],\n",
              " ['baking', 'shortening', 'flour', 'milk', 'salt'],\n",
              " ['salt', 'edam', 'salt'],\n",
              " ['english muffin', 'bacon', 'egg', 'butter', 'lemon', 'cayenne pepper'],\n",
              " ['snails', 'butter', 'mushroom', 'garlic', 'cheese', 'parsley'],\n",
              " ['beans',\n",
              "  'onion',\n",
              "  'parsley',\n",
              "  'garlic',\n",
              "  'flour',\n",
              "  'salt',\n",
              "  'cumin',\n",
              "  'coriander',\n",
              "  'black pepper',\n",
              "  'cayenne pepper',\n",
              "  'cardamom',\n",
              "  'oil'],\n",
              " ['filet', 'oil', 'garlic', 'gin', 'salt', 'pepper'],\n",
              " ['oil',\n",
              "  'potato',\n",
              "  'beer',\n",
              "  'flour',\n",
              "  'cod',\n",
              "  'pepper',\n",
              "  'chili',\n",
              "  'old bay',\n",
              "  'vinegar'],\n",
              " ['foie gras', 'salt', 'milk'],\n",
              " ['potato', 'flour', 'salt', 'black pepper', 'cayenne pepper', 'oil'],\n",
              " ['onion',\n",
              "  'butter',\n",
              "  'oil',\n",
              "  'salt',\n",
              "  'sugar',\n",
              "  'flour',\n",
              "  'beef',\n",
              "  'vermouth',\n",
              "  'pepper',\n",
              "  'baguette',\n",
              "  'cloves',\n",
              "  'cheese'],\n",
              " ['egg',\n",
              "  'milk',\n",
              "  'vanilla',\n",
              "  'cinnamon',\n",
              "  'salt',\n",
              "  'baguette',\n",
              "  'butter',\n",
              "  'sugar',\n",
              "  'maple syrup'],\n",
              " ['oil',\n",
              "  'calamari',\n",
              "  'flour',\n",
              "  'masa harina',\n",
              "  'parsley',\n",
              "  'lemon',\n",
              "  'parsley',\n",
              "  'salt',\n",
              "  'lemon',\n",
              "  'mayonnaise'],\n",
              " ['brown rice', 'oil', 'peas', 'carrot', 'garlic', 'egg', 'soy'],\n",
              " ['milk', 'sugar', 'vanilla'],\n",
              " ['egg', 'tartar', 'egg', 'cloves'],\n",
              " ['potato', 'egg', 'flour', 'salt'],\n",
              " ['tomato',\n",
              "  'cherry',\n",
              "  'onion',\n",
              "  'cucumber',\n",
              "  'pepper',\n",
              "  'lettuce',\n",
              "  'thyme',\n",
              "  'chives',\n",
              "  'feta',\n",
              "  'olive',\n",
              "  'oil',\n",
              "  'red wine',\n",
              "  'oregano',\n",
              "  'salt',\n",
              "  'black pepper'],\n",
              " ['bread', 'cheddar', 'tomato', 'onion', 'oil'],\n",
              " ['salmon', 'brown sugar', 'lemon', 'lemon', 'soy', 'water', 'oil'],\n",
              " ['avocado', 'onion', 'jalapeno chilies', 'cilantro', 'salt', 'lime'],\n",
              " ['cabbage',\n",
              "  'pork',\n",
              "  'onion',\n",
              "  'soy',\n",
              "  'sake',\n",
              "  'oil',\n",
              "  'garlic',\n",
              "  'corn starch',\n",
              "  'gyoza wrappers',\n",
              "  'oil',\n",
              "  'water',\n",
              "  'rice',\n",
              "  'oil'],\n",
              " ['beef',\n",
              "  'cheese',\n",
              "  'mayonnaise',\n",
              "  'ketchup',\n",
              "  'mustard',\n",
              "  'dill',\n",
              "  'black pepper',\n",
              "  'onion',\n",
              "  'tomato',\n",
              "  'lettuce'],\n",
              " ['broth',\n",
              "  'soy',\n",
              "  'pepper',\n",
              "  'shiitake',\n",
              "  'rice',\n",
              "  'corn starch',\n",
              "  'egg',\n",
              "  'tofu',\n",
              "  'gin',\n",
              "  'scallions'],\n",
              " ['dogs',\n",
              "  'dog bun',\n",
              "  'chili',\n",
              "  'onion',\n",
              "  'cheddar',\n",
              "  'mayonnaise',\n",
              "  'mustard',\n",
              "  'relish'],\n",
              " ['oil',\n",
              "  'onion',\n",
              "  'tomato',\n",
              "  'anaheim chile',\n",
              "  'cumin',\n",
              "  'adobo',\n",
              "  'chili',\n",
              "  'corn tortillas',\n",
              "  'butter',\n",
              "  'egg',\n",
              "  'cilantro'],\n",
              " ['chickpea', 'garlic', 'tahini', 'lemon', 'oil', 'salt', 'parsley'],\n",
              " ['cocoa', 'brown sugar', 'milk', 'vanilla'],\n",
              " ['pork',\n",
              "  'onion',\n",
              "  'garlic',\n",
              "  'tomato',\n",
              "  'tomato',\n",
              "  'italian',\n",
              "  'fennel',\n",
              "  'black pepper',\n",
              "  'noodles',\n",
              "  'egg',\n",
              "  'cheese',\n",
              "  'cheese',\n",
              "  'cheese'],\n",
              " ['parsley',\n",
              "  'thyme',\n",
              "  'bay',\n",
              "  'lobster',\n",
              "  'butter',\n",
              "  'gin',\n",
              "  'bran',\n",
              "  'shallot',\n",
              "  'carrot',\n",
              "  'celery',\n",
              "  'garlic',\n",
              "  'onion',\n",
              "  'salt',\n",
              "  'tomato',\n",
              "  'white wine',\n",
              "  'fish',\n",
              "  'cayenne pepper',\n",
              "  'corn starch',\n",
              "  'egg',\n",
              "  'chives'],\n",
              " ['mayonnaise',\n",
              "  'dijon mustard',\n",
              "  'celery',\n",
              "  'lemon',\n",
              "  'old bay',\n",
              "  'lobster',\n",
              "  'lettuce',\n",
              "  'dog rolls'],\n",
              " ['macaroni', 'cheddar', 'butter', 'milk', 'salt', 'pepper'],\n",
              " ['sugar', 'almond', 'sugar', 'egg'],\n",
              " ['noodles',\n",
              "  'miso',\n",
              "  'tofu',\n",
              "  'cress',\n",
              "  'onion',\n",
              "  'cilantro',\n",
              "  'pepper',\n",
              "  'miso',\n",
              "  'apple',\n",
              "  'gin',\n",
              "  'turmeric',\n",
              "  'water'],\n",
              " ['oil', 'cloves', 'tomato', 'mussels', 'white wine', 'parsley', 'bread'],\n",
              " ['chips',\n",
              "  'beef',\n",
              "  'beans',\n",
              "  'salsa',\n",
              "  'cheese',\n",
              "  'onion',\n",
              "  'cilantro',\n",
              "  'jalapeno chilies',\n",
              "  'pickle'],\n",
              " ['egg', 'oil', 'cheese', 'chilli', 'chives', 'dill', 'salmon'],\n",
              " ['onion', 'flour', 'baking', 'egg', 'bread', 'oil'],\n",
              " ['butter', 'celery', 'shallot', 'oyster', 'black pepper', 'cayenne pepper'],\n",
              " ['noodles',\n",
              "  'water',\n",
              "  'oil',\n",
              "  'cilantro',\n",
              "  'pepper',\n",
              "  'shrimp',\n",
              "  'shallot',\n",
              "  'egg',\n",
              "  'sugar',\n",
              "  'oyster',\n",
              "  'fish',\n",
              "  'lime',\n",
              "  'beans',\n",
              "  'scallions',\n",
              "  'nut',\n",
              "  'lime'],\n",
              " ['paella',\n",
              "  'chorizo',\n",
              "  'chicken',\n",
              "  'onion',\n",
              "  'garlic',\n",
              "  'chicken',\n",
              "  'tomato',\n",
              "  'saffron',\n",
              "  'paprika',\n",
              "  'oil',\n",
              "  'parsley',\n",
              "  'salt',\n",
              "  'pepper',\n",
              "  'shrimp',\n",
              "  'mussels',\n",
              "  'clams',\n",
              "  'lemon'],\n",
              " ['flour',\n",
              "  'baking',\n",
              "  'sugar',\n",
              "  'butter',\n",
              "  'egg',\n",
              "  'cake',\n",
              "  'bacon',\n",
              "  'onion',\n",
              "  'tomato',\n",
              "  'cheese',\n",
              "  'chives',\n",
              "  'parsley',\n",
              "  'salt',\n",
              "  'black pepper',\n",
              "  'maple syrup',\n",
              "  'oil',\n",
              "  'butter'],\n",
              " ['sugar', 'vanilla', 'unflavored gelatin', 'cold water'],\n",
              " ['duck',\n",
              "  'cinnamon',\n",
              "  'gin',\n",
              "  'nut',\n",
              "  'pepper',\n",
              "  'cloves',\n",
              "  'soy',\n",
              "  'honey',\n",
              "  'orange',\n",
              "  'parsley',\n",
              "  'onion',\n",
              "  'jam',\n",
              "  'sugar',\n",
              "  'vinegar',\n",
              "  'chutney'],\n",
              " ['marrow',\n",
              "  'oxtail',\n",
              "  'beef',\n",
              "  'clove',\n",
              "  'anise',\n",
              "  'cinnamon',\n",
              "  'cardamom',\n",
              "  'black pepper',\n",
              "  'coriander',\n",
              "  'fennel',\n",
              "  'gin',\n",
              "  'onion',\n",
              "  'shallot',\n",
              "  'fish',\n",
              "  'sugar',\n",
              "  'noodles',\n",
              "  'scallions',\n",
              "  'eye round',\n",
              "  'cilantro',\n",
              "  'basil',\n",
              "  'beans',\n",
              "  'lime',\n",
              "  'bird chile',\n",
              "  'chile',\n",
              "  'hoisin'],\n",
              " ['pizza', 'cherry', 'olive', 'oregano', 'basil', 'salt', 'oil', 'cheese'],\n",
              " ['pork',\n",
              "  'orange',\n",
              "  'lime',\n",
              "  'black pepper',\n",
              "  'cumin',\n",
              "  'cayenne pepper',\n",
              "  'garlic',\n",
              "  'oregano',\n",
              "  'oil',\n",
              "  'onion',\n",
              "  'garlic',\n",
              "  'white wine'],\n",
              " ['potato', 'corn starch', 'oil', 'cheese'],\n",
              " ['rib-eye roast', 'oil', 'salt', 'pepper', 'rosemary', 'thyme', 'garlic'],\n",
              " ['onion',\n",
              "  'garlic',\n",
              "  'jalapeno chilies',\n",
              "  'chipotle',\n",
              "  'tomato',\n",
              "  'dijon mustard',\n",
              "  'vinegar',\n",
              "  'paprika',\n",
              "  'ketchup',\n",
              "  'worcestershire',\n",
              "  'brown sugar',\n",
              "  'bay leaf',\n",
              "  'salt',\n",
              "  'shoulder roast',\n",
              "  'buns'],\n",
              " ['shiitake',\n",
              "  'gin',\n",
              "  'dashi',\n",
              "  'noodles',\n",
              "  'egg',\n",
              "  'baby bok choy',\n",
              "  'radish',\n",
              "  'miso',\n",
              "  'soy',\n",
              "  'oil',\n",
              "  'scallions',\n",
              "  'pepper'],\n",
              " ['cheese', 'pasta', 'cheese', 'cheese'],\n",
              " ['cake',\n",
              "  'sugar',\n",
              "  'cocoa',\n",
              "  'baking',\n",
              "  'salt',\n",
              "  'oil',\n",
              "  'butter',\n",
              "  'egg',\n",
              "  'red food coloring',\n",
              "  'vanilla',\n",
              "  'vinegar',\n",
              "  'butter',\n",
              "  'cheese',\n",
              "  'sugar',\n",
              "  'chocolate'],\n",
              " ['oil', 'arborio rice', 'risotto', 'broth', 'butter', 'cheese'],\n",
              " ['oil',\n",
              "  'potato',\n",
              "  'peas',\n",
              "  'cumin',\n",
              "  'salt',\n",
              "  'chili',\n",
              "  'chilli',\n",
              "  'garam masala',\n",
              "  'gin',\n",
              "  'coriander',\n",
              "  'flour',\n",
              "  'water',\n",
              "  'cold water',\n",
              "  'oil'],\n",
              " ['sashimi', 'rice', 'mirin', 'oil', 'gin'],\n",
              " ['scallop',\n",
              "  'cajun',\n",
              "  'oil',\n",
              "  'butter',\n",
              "  'cayenne pepper',\n",
              "  'salt',\n",
              "  'pepper',\n",
              "  'greens'],\n",
              " ['seaweed', 'seeds', 'tomato', 'rice'],\n",
              " ['grits',\n",
              "  'water',\n",
              "  'salt',\n",
              "  'butter',\n",
              "  'cheddar',\n",
              "  'cheese',\n",
              "  'cheese',\n",
              "  'pepper',\n",
              "  'pepper',\n",
              "  'shrimp',\n",
              "  'salt',\n",
              "  'flour',\n",
              "  'bacon',\n",
              "  'fat',\n",
              "  'mushroom',\n",
              "  'pepper',\n",
              "  'cloves',\n",
              "  'onion',\n",
              "  'plum',\n",
              "  'chicken',\n",
              "  'lemon'],\n",
              " ['spaghetti',\n",
              "  'beef',\n",
              "  'pancetta',\n",
              "  'tomato',\n",
              "  'tomato',\n",
              "  'red wine',\n",
              "  'carrot',\n",
              "  'celery',\n",
              "  'onion',\n",
              "  'garlic',\n",
              "  'cheese',\n",
              "  'basil',\n",
              "  'oregano',\n",
              "  'bay',\n",
              "  'oil',\n",
              "  'salt',\n",
              "  'black pepper',\n",
              "  'cheese'],\n",
              " ['spaghetti',\n",
              "  'egg',\n",
              "  'cheese',\n",
              "  'bacon',\n",
              "  'garlic',\n",
              "  'salt',\n",
              "  'black pepper',\n",
              "  'parsley'],\n",
              " ['spring roll wrappers',\n",
              "  'noodles',\n",
              "  'carrot',\n",
              "  'cucumber',\n",
              "  'onion',\n",
              "  'soy',\n",
              "  'oil',\n",
              "  'seeds'],\n",
              " ['oil',\n",
              "  'garlic',\n",
              "  'black pepper',\n",
              "  'salt',\n",
              "  'sirloin',\n",
              "  'steak',\n",
              "  'worcestershire'],\n",
              " ['strawberries', 'sugar', 'whipping', 'vanilla', 'honey', 'biscuits'],\n",
              " ['rice', 'water', 'rice', 'sugar', 'salt'],\n",
              " ['onion',\n",
              "  'garlic',\n",
              "  'beef',\n",
              "  'chili',\n",
              "  'salt',\n",
              "  'sugar',\n",
              "  'corn tortillas',\n",
              "  'salsa',\n",
              "  'cilantro',\n",
              "  'lime'],\n",
              " ['flour',\n",
              "  'egg',\n",
              "  'cold water',\n",
              "  'salt',\n",
              "  'konbu dashi',\n",
              "  'dashi',\n",
              "  'soy',\n",
              "  'octopus',\n",
              "  'onion',\n",
              "  'pie',\n",
              "  'cheese'],\n",
              " ['egg',\n",
              "  'sugar',\n",
              "  'mascarpone',\n",
              "  'brewed espresso',\n",
              "  'frangelico',\n",
              "  'rum',\n",
              "  'lady fingers',\n",
              "  'cocoa'],\n",
              " ['sushi grade tuna',\n",
              "  'scallions',\n",
              "  'tomato',\n",
              "  'cilantro',\n",
              "  'gin',\n",
              "  'soy',\n",
              "  'oil',\n",
              "  'cucumber'],\n",
              " ['egg', 'salt', 'sugar', 'vanilla', 'butter', 'flour', 'baking', 'milk'],\n",
              " ['']]"
            ]
          },
          "execution_count": 13,
          "metadata": {},
          "output_type": "execute_result"
        }
      ],
      "source": [
        "new_ingredients = []\n",
        "for arr in ingredients:\n",
        "    arr = arr.split(\",\")\n",
        "    new_ingredients.append(arr)\n",
        "new_ingredients"
      ]
    },
    {
      "cell_type": "markdown",
      "metadata": {
        "id": "go1N57wy2BYK"
      },
      "source": [
        "# Binarization"
      ]
    },
    {
      "cell_type": "markdown",
      "metadata": {
        "id": "MMRweQBFljNp"
      },
      "source": [
        "We use MultiLabelBinarizer to convert the list of ingredient lists (new_ingredients) into a binary matrix format. Each ingredient becomes a binary feature column in the resulting DataFrame (df), where the presence or absence of an ingredient is represented by 1 or 0 respectively."
      ]
    },
    {
      "cell_type": "code",
      "execution_count": 14,
      "metadata": {
        "id": "j8g4UZ-G7ci5"
      },
      "outputs": [],
      "source": [
        "mlb = MultiLabelBinarizer()\n",
        "\n",
        "df = pd.DataFrame(mlb.fit_transform(new_ingredients),columns=mlb.classes_) #binary encode ingredients"
      ]
    },
    {
      "cell_type": "markdown",
      "metadata": {
        "id": "XZ-maRRhhQsn"
      },
      "source": [
        "This code adds a new column named \"target\" to df, populated with the class names from the classes list, creating a dictionary-like representation of the binary-encoded food ingredients dataset."
      ]
    },
    {
      "cell_type": "code",
      "execution_count": 15,
      "metadata": {
        "id": "4USYyKss7gXw"
      },
      "outputs": [],
      "source": [
        "df[\"target\"] = classes\n",
        "food_dict = df"
      ]
    },
    {
      "cell_type": "markdown",
      "metadata": {
        "id": "5WAQfpUWmhwf"
      },
      "source": [
        "We read the paths to train, validation, and test images and their corresponding labels from separate text files. It splits the content of each file by newline characters ('\\n') and stores them in lists."
      ]
    },
    {
      "cell_type": "code",
      "execution_count": 16,
      "metadata": {
        "id": "mPMW5Pza7jfU"
      },
      "outputs": [],
      "source": [
        "#Training part\n",
        "f = open(BASE_PATH + '/Annotations/train_images.txt', \"r\")\n",
        "train_images = f.read().split('\\n')\n",
        "f.close()\n",
        "f = open(BASE_PATH + '/Annotations/train_labels.txt', \"r\")\n",
        "train_labels = f.read().split('\\n')\n",
        "f.close()\n",
        "\n",
        "#Validation part\n",
        "f = open(BASE_PATH + '/Annotations/val_images.txt', \"r\")\n",
        "val_images = f.read().split('\\n')\n",
        "f.close()\n",
        "f = open(BASE_PATH + '/Annotations/val_labels.txt', \"r\")\n",
        "val_labels = f.read().split('\\n')\n",
        "f.close()\n",
        "\n",
        "#Test part\n",
        "f = open(BASE_PATH + '/Annotations/test_images.txt', \"r\")\n",
        "test_images = f.read().split('\\n')\n",
        "f.close()\n",
        "f = open(BASE_PATH + '/Annotations/test_labels.txt', \"r\")\n",
        "test_labels = f.read().split('\\n')\n",
        "f.close()"
      ]
    },
    {
      "cell_type": "code",
      "execution_count": 17,
      "metadata": {
        "colab": {
          "base_uri": "https://localhost:8080/"
        },
        "id": "hzePNiUV7m_p",
        "outputId": "38c46c98-2479-42c0-97d3-0a878a4e8f0e"
      },
      "outputs": [
        {
          "data": {
            "text/plain": [
              "68176"
            ]
          },
          "execution_count": 17,
          "metadata": {},
          "output_type": "execute_result"
        }
      ],
      "source": [
        "#train_images\n",
        "len(train_labels)"
      ]
    },
    {
      "cell_type": "markdown",
      "metadata": {
        "id": "AgBfNK9gnF4K"
      },
      "source": [
        "This code constructs df representations (all_img_df, val_img_df, test_img_df) for the training, validation, and test datasets. It creates paths to image files by appending '.jpg' extension to each image name in the lists, and then associates each image path with its corresponding class ID from train_labels, val_labels, and test_labels within dataframes."
      ]
    },
    {
      "cell_type": "code",
      "execution_count": 18,
      "metadata": {
        "id": "MZ3Mdb2l8Svh"
      },
      "outputs": [],
      "source": [
        "train_images = [\"../content/food41/images/\" + s + \".jpg\" for s in train_images]\n",
        "all_img_df = pd.DataFrame({'path': train_images, 'class_id': train_labels})\n",
        "val_images = [\"../content/food41/images/\" + s + \".jpg\" for s in val_images]\n",
        "val_img_df = pd.DataFrame({'path': val_images, 'class_id': val_labels})\n",
        "test_images = [\"../content/food41/images/\" + s + \".jpg\" for s in test_images]\n",
        "test_img_df = pd.DataFrame({'path': test_images, 'class_id': test_labels})"
      ]
    },
    {
      "cell_type": "markdown",
      "metadata": {
        "id": "4TajFhhSnVjZ"
      },
      "source": [
        "This chunk of code removes the last row from each df. It's done to handle empty or incomplete entries that might have been introduced while reading the image paths and labels from the text files."
      ]
    },
    {
      "cell_type": "code",
      "execution_count": 19,
      "metadata": {
        "id": "zPObBQxR8WJf"
      },
      "outputs": [],
      "source": [
        "all_img_df = all_img_df[:-1]\n",
        "val_img_df = val_img_df[:-1]\n",
        "test_img_df = test_img_df[:-1]"
      ]
    },
    {
      "cell_type": "markdown",
      "metadata": {
        "id": "OgCvKStDn6j0"
      },
      "source": [
        "This chunk of code adds a new column named 'class_name' to each df. It derives the class name for each image path by extracting the last directory name from the path using *os.path.split(os.path.dirname(x))[-1]*. This lambda function is applied to the 'path' column of each df, resulting in the class name being extracted and added as a new column."
      ]
    },
    {
      "cell_type": "code",
      "execution_count": 20,
      "metadata": {
        "id": "gijP8uk38Yi5"
      },
      "outputs": [],
      "source": [
        "all_img_df['class_name'] = all_img_df['path'].map(lambda x: os.path.split(os.path.dirname(x))[-1])\n",
        "val_img_df['class_name'] = val_img_df['path'].map(lambda x: os.path.split(os.path.dirname(x))[-1])\n",
        "test_img_df['class_name'] = test_img_df['path'].map(lambda x: os.path.split(os.path.dirname(x))[-1])"
      ]
    },
    {
      "cell_type": "markdown",
      "metadata": {
        "id": "ddF8KTY3ofic"
      },
      "source": [
        "The drop() function is called with axis=1 to specify that the operation should be performed along columns and the empty string '' indicates the column name to be dropped."
      ]
    },
    {
      "cell_type": "code",
      "execution_count": 21,
      "metadata": {
        "id": "yjt8NZrv8bpy"
      },
      "outputs": [],
      "source": [
        "food_dict = food_dict.drop('', axis=1)"
      ]
    },
    {
      "cell_type": "code",
      "execution_count": 22,
      "metadata": {
        "colab": {
          "base_uri": "https://localhost:8080/",
          "height": 273
        },
        "id": "75Oa1wWj8gdj",
        "outputId": "9e22b175-ba59-4e1b-aa60-b84fdc849f3d"
      },
      "outputs": [
        {
          "data": {
            "application/vnd.google.colaboratory.intrinsic+json": {
              "type": "dataframe",
              "variable_name": "food_dict"
            },
            "text/html": [
              "\n",
              "  <div id=\"df-d319b1e2-1eb2-4474-afad-f8f8707f845b\" class=\"colab-df-container\">\n",
              "    <div>\n",
              "<style scoped>\n",
              "    .dataframe tbody tr th:only-of-type {\n",
              "        vertical-align: middle;\n",
              "    }\n",
              "\n",
              "    .dataframe tbody tr th {\n",
              "        vertical-align: top;\n",
              "    }\n",
              "\n",
              "    .dataframe thead th {\n",
              "        text-align: right;\n",
              "    }\n",
              "</style>\n",
              "<table border=\"1\" class=\"dataframe\">\n",
              "  <thead>\n",
              "    <tr style=\"text-align: right;\">\n",
              "      <th></th>\n",
              "      <th>adobo</th>\n",
              "      <th>almond</th>\n",
              "      <th>anaheim chile</th>\n",
              "      <th>anchovy</th>\n",
              "      <th>anise</th>\n",
              "      <th>apple</th>\n",
              "      <th>arborio rice</th>\n",
              "      <th>asiago</th>\n",
              "      <th>avocado</th>\n",
              "      <th>baby arugula</th>\n",
              "      <th>...</th>\n",
              "      <th>vermouth</th>\n",
              "      <th>vinegar</th>\n",
              "      <th>water</th>\n",
              "      <th>wheat tortillas</th>\n",
              "      <th>whipping</th>\n",
              "      <th>white wine</th>\n",
              "      <th>worcestershire</th>\n",
              "      <th>yeast</th>\n",
              "      <th>zucchini</th>\n",
              "      <th>target</th>\n",
              "    </tr>\n",
              "  </thead>\n",
              "  <tbody>\n",
              "    <tr>\n",
              "      <th>0</th>\n",
              "      <td>0</td>\n",
              "      <td>0</td>\n",
              "      <td>0</td>\n",
              "      <td>0</td>\n",
              "      <td>0</td>\n",
              "      <td>1</td>\n",
              "      <td>0</td>\n",
              "      <td>0</td>\n",
              "      <td>0</td>\n",
              "      <td>0</td>\n",
              "      <td>...</td>\n",
              "      <td>0</td>\n",
              "      <td>0</td>\n",
              "      <td>0</td>\n",
              "      <td>0</td>\n",
              "      <td>0</td>\n",
              "      <td>0</td>\n",
              "      <td>0</td>\n",
              "      <td>0</td>\n",
              "      <td>0</td>\n",
              "      <td>apple_pie</td>\n",
              "    </tr>\n",
              "    <tr>\n",
              "      <th>1</th>\n",
              "      <td>0</td>\n",
              "      <td>0</td>\n",
              "      <td>0</td>\n",
              "      <td>0</td>\n",
              "      <td>0</td>\n",
              "      <td>1</td>\n",
              "      <td>0</td>\n",
              "      <td>0</td>\n",
              "      <td>0</td>\n",
              "      <td>0</td>\n",
              "      <td>...</td>\n",
              "      <td>0</td>\n",
              "      <td>0</td>\n",
              "      <td>0</td>\n",
              "      <td>0</td>\n",
              "      <td>0</td>\n",
              "      <td>0</td>\n",
              "      <td>1</td>\n",
              "      <td>0</td>\n",
              "      <td>0</td>\n",
              "      <td>baby_back_ribs</td>\n",
              "    </tr>\n",
              "    <tr>\n",
              "      <th>2</th>\n",
              "      <td>0</td>\n",
              "      <td>0</td>\n",
              "      <td>0</td>\n",
              "      <td>0</td>\n",
              "      <td>0</td>\n",
              "      <td>0</td>\n",
              "      <td>0</td>\n",
              "      <td>0</td>\n",
              "      <td>0</td>\n",
              "      <td>0</td>\n",
              "      <td>...</td>\n",
              "      <td>0</td>\n",
              "      <td>0</td>\n",
              "      <td>0</td>\n",
              "      <td>0</td>\n",
              "      <td>0</td>\n",
              "      <td>0</td>\n",
              "      <td>0</td>\n",
              "      <td>0</td>\n",
              "      <td>0</td>\n",
              "      <td>baklava</td>\n",
              "    </tr>\n",
              "    <tr>\n",
              "      <th>3</th>\n",
              "      <td>0</td>\n",
              "      <td>0</td>\n",
              "      <td>0</td>\n",
              "      <td>0</td>\n",
              "      <td>0</td>\n",
              "      <td>0</td>\n",
              "      <td>0</td>\n",
              "      <td>1</td>\n",
              "      <td>0</td>\n",
              "      <td>1</td>\n",
              "      <td>...</td>\n",
              "      <td>0</td>\n",
              "      <td>0</td>\n",
              "      <td>0</td>\n",
              "      <td>0</td>\n",
              "      <td>0</td>\n",
              "      <td>0</td>\n",
              "      <td>0</td>\n",
              "      <td>0</td>\n",
              "      <td>0</td>\n",
              "      <td>beef_carpaccio</td>\n",
              "    </tr>\n",
              "    <tr>\n",
              "      <th>4</th>\n",
              "      <td>0</td>\n",
              "      <td>0</td>\n",
              "      <td>0</td>\n",
              "      <td>0</td>\n",
              "      <td>0</td>\n",
              "      <td>0</td>\n",
              "      <td>0</td>\n",
              "      <td>0</td>\n",
              "      <td>0</td>\n",
              "      <td>0</td>\n",
              "      <td>...</td>\n",
              "      <td>0</td>\n",
              "      <td>0</td>\n",
              "      <td>0</td>\n",
              "      <td>0</td>\n",
              "      <td>0</td>\n",
              "      <td>0</td>\n",
              "      <td>1</td>\n",
              "      <td>0</td>\n",
              "      <td>0</td>\n",
              "      <td>beef_tartare</td>\n",
              "    </tr>\n",
              "  </tbody>\n",
              "</table>\n",
              "<p>5 rows × 228 columns</p>\n",
              "</div>\n",
              "    <div class=\"colab-df-buttons\">\n",
              "\n",
              "  <div class=\"colab-df-container\">\n",
              "    <button class=\"colab-df-convert\" onclick=\"convertToInteractive('df-d319b1e2-1eb2-4474-afad-f8f8707f845b')\"\n",
              "            title=\"Convert this dataframe to an interactive table.\"\n",
              "            style=\"display:none;\">\n",
              "\n",
              "  <svg xmlns=\"http://www.w3.org/2000/svg\" height=\"24px\" viewBox=\"0 -960 960 960\">\n",
              "    <path d=\"M120-120v-720h720v720H120Zm60-500h600v-160H180v160Zm220 220h160v-160H400v160Zm0 220h160v-160H400v160ZM180-400h160v-160H180v160Zm440 0h160v-160H620v160ZM180-180h160v-160H180v160Zm440 0h160v-160H620v160Z\"/>\n",
              "  </svg>\n",
              "    </button>\n",
              "\n",
              "  <style>\n",
              "    .colab-df-container {\n",
              "      display:flex;\n",
              "      gap: 12px;\n",
              "    }\n",
              "\n",
              "    .colab-df-convert {\n",
              "      background-color: #E8F0FE;\n",
              "      border: none;\n",
              "      border-radius: 50%;\n",
              "      cursor: pointer;\n",
              "      display: none;\n",
              "      fill: #1967D2;\n",
              "      height: 32px;\n",
              "      padding: 0 0 0 0;\n",
              "      width: 32px;\n",
              "    }\n",
              "\n",
              "    .colab-df-convert:hover {\n",
              "      background-color: #E2EBFA;\n",
              "      box-shadow: 0px 1px 2px rgba(60, 64, 67, 0.3), 0px 1px 3px 1px rgba(60, 64, 67, 0.15);\n",
              "      fill: #174EA6;\n",
              "    }\n",
              "\n",
              "    .colab-df-buttons div {\n",
              "      margin-bottom: 4px;\n",
              "    }\n",
              "\n",
              "    [theme=dark] .colab-df-convert {\n",
              "      background-color: #3B4455;\n",
              "      fill: #D2E3FC;\n",
              "    }\n",
              "\n",
              "    [theme=dark] .colab-df-convert:hover {\n",
              "      background-color: #434B5C;\n",
              "      box-shadow: 0px 1px 3px 1px rgba(0, 0, 0, 0.15);\n",
              "      filter: drop-shadow(0px 1px 2px rgba(0, 0, 0, 0.3));\n",
              "      fill: #FFFFFF;\n",
              "    }\n",
              "  </style>\n",
              "\n",
              "    <script>\n",
              "      const buttonEl =\n",
              "        document.querySelector('#df-d319b1e2-1eb2-4474-afad-f8f8707f845b button.colab-df-convert');\n",
              "      buttonEl.style.display =\n",
              "        google.colab.kernel.accessAllowed ? 'block' : 'none';\n",
              "\n",
              "      async function convertToInteractive(key) {\n",
              "        const element = document.querySelector('#df-d319b1e2-1eb2-4474-afad-f8f8707f845b');\n",
              "        const dataTable =\n",
              "          await google.colab.kernel.invokeFunction('convertToInteractive',\n",
              "                                                    [key], {});\n",
              "        if (!dataTable) return;\n",
              "\n",
              "        const docLinkHtml = 'Like what you see? Visit the ' +\n",
              "          '<a target=\"_blank\" href=https://colab.research.google.com/notebooks/data_table.ipynb>data table notebook</a>'\n",
              "          + ' to learn more about interactive tables.';\n",
              "        element.innerHTML = '';\n",
              "        dataTable['output_type'] = 'display_data';\n",
              "        await google.colab.output.renderOutput(dataTable, element);\n",
              "        const docLink = document.createElement('div');\n",
              "        docLink.innerHTML = docLinkHtml;\n",
              "        element.appendChild(docLink);\n",
              "      }\n",
              "    </script>\n",
              "  </div>\n",
              "\n",
              "\n",
              "<div id=\"df-c0be3baf-99ed-49b6-977f-be0cf4a8c681\">\n",
              "  <button class=\"colab-df-quickchart\" onclick=\"quickchart('df-c0be3baf-99ed-49b6-977f-be0cf4a8c681')\"\n",
              "            title=\"Suggest charts\"\n",
              "            style=\"display:none;\">\n",
              "\n",
              "<svg xmlns=\"http://www.w3.org/2000/svg\" height=\"24px\"viewBox=\"0 0 24 24\"\n",
              "     width=\"24px\">\n",
              "    <g>\n",
              "        <path d=\"M19 3H5c-1.1 0-2 .9-2 2v14c0 1.1.9 2 2 2h14c1.1 0 2-.9 2-2V5c0-1.1-.9-2-2-2zM9 17H7v-7h2v7zm4 0h-2V7h2v10zm4 0h-2v-4h2v4z\"/>\n",
              "    </g>\n",
              "</svg>\n",
              "  </button>\n",
              "\n",
              "<style>\n",
              "  .colab-df-quickchart {\n",
              "      --bg-color: #E8F0FE;\n",
              "      --fill-color: #1967D2;\n",
              "      --hover-bg-color: #E2EBFA;\n",
              "      --hover-fill-color: #174EA6;\n",
              "      --disabled-fill-color: #AAA;\n",
              "      --disabled-bg-color: #DDD;\n",
              "  }\n",
              "\n",
              "  [theme=dark] .colab-df-quickchart {\n",
              "      --bg-color: #3B4455;\n",
              "      --fill-color: #D2E3FC;\n",
              "      --hover-bg-color: #434B5C;\n",
              "      --hover-fill-color: #FFFFFF;\n",
              "      --disabled-bg-color: #3B4455;\n",
              "      --disabled-fill-color: #666;\n",
              "  }\n",
              "\n",
              "  .colab-df-quickchart {\n",
              "    background-color: var(--bg-color);\n",
              "    border: none;\n",
              "    border-radius: 50%;\n",
              "    cursor: pointer;\n",
              "    display: none;\n",
              "    fill: var(--fill-color);\n",
              "    height: 32px;\n",
              "    padding: 0;\n",
              "    width: 32px;\n",
              "  }\n",
              "\n",
              "  .colab-df-quickchart:hover {\n",
              "    background-color: var(--hover-bg-color);\n",
              "    box-shadow: 0 1px 2px rgba(60, 64, 67, 0.3), 0 1px 3px 1px rgba(60, 64, 67, 0.15);\n",
              "    fill: var(--button-hover-fill-color);\n",
              "  }\n",
              "\n",
              "  .colab-df-quickchart-complete:disabled,\n",
              "  .colab-df-quickchart-complete:disabled:hover {\n",
              "    background-color: var(--disabled-bg-color);\n",
              "    fill: var(--disabled-fill-color);\n",
              "    box-shadow: none;\n",
              "  }\n",
              "\n",
              "  .colab-df-spinner {\n",
              "    border: 2px solid var(--fill-color);\n",
              "    border-color: transparent;\n",
              "    border-bottom-color: var(--fill-color);\n",
              "    animation:\n",
              "      spin 1s steps(1) infinite;\n",
              "  }\n",
              "\n",
              "  @keyframes spin {\n",
              "    0% {\n",
              "      border-color: transparent;\n",
              "      border-bottom-color: var(--fill-color);\n",
              "      border-left-color: var(--fill-color);\n",
              "    }\n",
              "    20% {\n",
              "      border-color: transparent;\n",
              "      border-left-color: var(--fill-color);\n",
              "      border-top-color: var(--fill-color);\n",
              "    }\n",
              "    30% {\n",
              "      border-color: transparent;\n",
              "      border-left-color: var(--fill-color);\n",
              "      border-top-color: var(--fill-color);\n",
              "      border-right-color: var(--fill-color);\n",
              "    }\n",
              "    40% {\n",
              "      border-color: transparent;\n",
              "      border-right-color: var(--fill-color);\n",
              "      border-top-color: var(--fill-color);\n",
              "    }\n",
              "    60% {\n",
              "      border-color: transparent;\n",
              "      border-right-color: var(--fill-color);\n",
              "    }\n",
              "    80% {\n",
              "      border-color: transparent;\n",
              "      border-right-color: var(--fill-color);\n",
              "      border-bottom-color: var(--fill-color);\n",
              "    }\n",
              "    90% {\n",
              "      border-color: transparent;\n",
              "      border-bottom-color: var(--fill-color);\n",
              "    }\n",
              "  }\n",
              "</style>\n",
              "\n",
              "  <script>\n",
              "    async function quickchart(key) {\n",
              "      const quickchartButtonEl =\n",
              "        document.querySelector('#' + key + ' button');\n",
              "      quickchartButtonEl.disabled = true;  // To prevent multiple clicks.\n",
              "      quickchartButtonEl.classList.add('colab-df-spinner');\n",
              "      try {\n",
              "        const charts = await google.colab.kernel.invokeFunction(\n",
              "            'suggestCharts', [key], {});\n",
              "      } catch (error) {\n",
              "        console.error('Error during call to suggestCharts:', error);\n",
              "      }\n",
              "      quickchartButtonEl.classList.remove('colab-df-spinner');\n",
              "      quickchartButtonEl.classList.add('colab-df-quickchart-complete');\n",
              "    }\n",
              "    (() => {\n",
              "      let quickchartButtonEl =\n",
              "        document.querySelector('#df-c0be3baf-99ed-49b6-977f-be0cf4a8c681 button');\n",
              "      quickchartButtonEl.style.display =\n",
              "        google.colab.kernel.accessAllowed ? 'block' : 'none';\n",
              "    })();\n",
              "  </script>\n",
              "</div>\n",
              "    </div>\n",
              "  </div>\n"
            ],
            "text/plain": [
              "   adobo  almond  anaheim chile  anchovy  anise  apple  arborio rice  asiago  \\\n",
              "0      0       0              0        0      0      1             0       0   \n",
              "1      0       0              0        0      0      1             0       0   \n",
              "2      0       0              0        0      0      0             0       0   \n",
              "3      0       0              0        0      0      0             0       1   \n",
              "4      0       0              0        0      0      0             0       0   \n",
              "\n",
              "   avocado  baby arugula  ...  vermouth  vinegar  water  wheat tortillas  \\\n",
              "0        0             0  ...         0        0      0                0   \n",
              "1        0             0  ...         0        0      0                0   \n",
              "2        0             0  ...         0        0      0                0   \n",
              "3        0             1  ...         0        0      0                0   \n",
              "4        0             0  ...         0        0      0                0   \n",
              "\n",
              "   whipping  white wine  worcestershire  yeast  zucchini          target  \n",
              "0         0           0               0      0         0       apple_pie  \n",
              "1         0           0               1      0         0  baby_back_ribs  \n",
              "2         0           0               0      0         0         baklava  \n",
              "3         0           0               0      0         0  beef_carpaccio  \n",
              "4         0           0               1      0         0    beef_tartare  \n",
              "\n",
              "[5 rows x 228 columns]"
            ]
          },
          "execution_count": 22,
          "metadata": {},
          "output_type": "execute_result"
        }
      ],
      "source": [
        "food_dict.head()"
      ]
    },
    {
      "cell_type": "markdown",
      "metadata": {
        "id": "LNb0Ai5TrwBc"
      },
      "source": [
        "We iterate over each row in all_img_df, representing training images. For each row:\n",
        "- It extracts the food class name, image path and class ID.\n",
        "- It looks up the binary encoding of the food class from food_dict.\n",
        "- It adds the image path and class ID to the binary encoding df.\n",
        "- It converts the resulting row into a numpy array and appends it to the new_data list. This process effectively creates a new dataset where each row represents a training image along with its binary-encoded food class information."
      ]
    },
    {
      "cell_type": "code",
      "execution_count": 23,
      "metadata": {
        "id": "8pcbZN_X8i4c"
      },
      "outputs": [],
      "source": [
        "# DataFrame for train images\n",
        "new_data = []\n",
        "for index, row in all_img_df.iterrows():\n",
        "    food = row[\"class_name\"]\n",
        "    path = row[\"path\"]\n",
        "    class_id = row[\"class_id\"]\n",
        "    binary_encod = food_dict.loc[food_dict[\"target\"] == food].copy()  # Make a copy of the matched row\n",
        "    binary_encod.loc[:, \"path\"] = path\n",
        "    binary_encod.loc[:, \"class_id\"] = class_id\n",
        "    new_data.append(np.array(binary_encod.iloc[0]))\n",
        "\n",
        "# Convert new_data to DataFrame\n",
        "new_data_df = pd.DataFrame(new_data, columns=binary_encod.columns)"
      ]
    },
    {
      "cell_type": "markdown",
      "metadata": {
        "id": "mymaIUNvsjFv"
      },
      "source": [
        "This code creates a DataFrame train_df using the list new_data, where each row represents a training image with its corresponding binary-encoded food class information. It ensures that the column names are correctly assigned from the binary_encod DataFrame.\n",
        "\n",
        "col_names = list(binary_encod.columns.values): This line retrieves the column names from the binary_encod DataFrame and stores them in the list col_names.\n"
      ]
    },
    {
      "cell_type": "code",
      "execution_count": 24,
      "metadata": {
        "id": "a3CYPrSz-JW4"
      },
      "outputs": [],
      "source": [
        "col_names = list(binary_encod.columns.values)\n",
        "train_df = pd.DataFrame(new_data, columns = col_names)"
      ]
    },
    {
      "cell_type": "markdown",
      "metadata": {
        "id": "xqeWQ1hXs3Zl"
      },
      "source": [
        "This code iterates over each row in the DataFrame val_img_df, representing validation images. For each row:\n",
        "- It extracts the food class name, image path, and class ID.\n",
        "- It looks up the binary encoding of the food class from the food_dict DataFrame.\n",
        "- It adds the image path and class ID to the binary encoding DataFrame.\n",
        "- Finally, it converts the resulting row into a numpy array and appends it to the val_data list. This process effectively creates a new dataset (val_data) where each row represents a validation image along with its binary-encoded food class information."
      ]
    },
    {
      "cell_type": "code",
      "execution_count": 25,
      "metadata": {
        "id": "P8PRHhAj8t2t"
      },
      "outputs": [],
      "source": [
        "# DataFrame for val images\n",
        "val_data = []\n",
        "for index, row in val_img_df.iterrows():\n",
        "    # Get binary encoding ingredients from lookup\n",
        "    food = row[\"class_name\"]\n",
        "    path = row[\"path\"]\n",
        "    class_id = row[\"class_id\"]\n",
        "    binary_encod = food_dict.loc[food_dict[\"target\"] == food].copy()  # Make a copy of the matched rows\n",
        "    binary_encod.loc[:, \"path\"] = path\n",
        "    binary_encod.loc[:, \"class_id\"] = int(class_id)\n",
        "    val_data.append(np.array(binary_encod.iloc[0]))\n",
        "\n",
        "# Convert val_data to DataFrame\n",
        "val_data_df = pd.DataFrame(val_data, columns=binary_encod.columns)"
      ]
    },
    {
      "cell_type": "markdown",
      "metadata": {
        "id": "fyjovGd0tX0E"
      },
      "source": [
        "This code constructs val_df using the list val_data, where each row represents a validation image with its corresponding binary-encoded food class information. The column names are derived from the col_names list."
      ]
    },
    {
      "cell_type": "code",
      "execution_count": 26,
      "metadata": {
        "id": "eYXUfvCq-z2Q"
      },
      "outputs": [],
      "source": [
        "val_df = pd.DataFrame(val_data, columns = col_names)"
      ]
    },
    {
      "cell_type": "markdown",
      "metadata": {
        "id": "TDuuIx20JL0O"
      },
      "source": [
        "We iterate over each row in test_img_df, representing test images. For each row:\n",
        "\n",
        "- It extracts the food class name, image path, and class ID.\n",
        "- It looks up the binary encoding of the food class from the food_dict DataFrame.\n",
        "- It adds the image path and class ID to the binary encoding DataFrame.\n",
        "- Finally, it converts the resulting row into a numpy array and appends it to the test_data list. This process effectively creates a new dataset (test_data) where each row represents a test image along with its binary-encoded food class information."
      ]
    },
    {
      "cell_type": "code",
      "execution_count": 27,
      "metadata": {
        "id": "Wyg_3nkA-rDi"
      },
      "outputs": [],
      "source": [
        "# DataFrame for test images\n",
        "test_data = []\n",
        "for index, row in test_img_df.iterrows():\n",
        "    # Get binary encoding ingredients from lookup\n",
        "    food = row[\"class_name\"]\n",
        "    path = row[\"path\"]\n",
        "    class_id = row[\"class_id\"]\n",
        "    binary_encod = food_dict.loc[food_dict[\"target\"] == food].copy()  # Make a copy of the matched rows\n",
        "    binary_encod.loc[:, \"path\"] = path\n",
        "    binary_encod.loc[:, \"class_id\"] = int(class_id)\n",
        "    test_data.append(np.array(binary_encod.iloc[0]))\n",
        "\n",
        "# Convert test_data to DataFrame\n",
        "test_data_df = pd.DataFrame(test_data, columns=binary_encod.columns)\n"
      ]
    },
    {
      "cell_type": "markdown",
      "metadata": {
        "id": "yvhZxerwJo_b"
      },
      "source": [
        "We create test_df using the list test_data, where each row represents a test image with its corresponding binary-encoded food class information. It ensures that the column names are correctly assigned from the col_names list."
      ]
    },
    {
      "cell_type": "code",
      "execution_count": 28,
      "metadata": {
        "id": "xTTSQfmE-7Z8"
      },
      "outputs": [],
      "source": [
        "test_df = pd.DataFrame(test_data, columns = col_names)"
      ]
    },
    {
      "cell_type": "markdown",
      "metadata": {
        "id": "4PHDZ6Uf2PlC"
      },
      "source": [
        "# Convertion to HDF5 format"
      ]
    },
    {
      "cell_type": "markdown",
      "metadata": {
        "id": "LEFoRp2_J6KO"
      },
      "source": [
        "We save train_df, val_df, and test_df to separate HDF5 files in the current directory.\n",
        "\n",
        "- .to_hdf() function is used to save the DataFrame to an HDF5 file format.\n",
        "- The first argument specifies the filename to which the DataFrame will be saved.\n",
        "- The second argument specifies the key (name) under which the DataFrame will be stored within the HDF5 file.\n",
        "- mode='w' indicates that if the file already exists, it should be overwritten.\n",
        "- format='table' specifies the format of the HDF5 file to be 'table'.\n",
        "- data_columns=True specifies that additional indices should be created for each column to speed up queries.\n",
        "\n",
        "This allows for efficient storage and retrieval of large datasets.\n",
        "\n",
        "HDF5 is a file format designed for storing and organizing large amounts of data. HDF5 files can contain datasets, groups, and attributes, and they support efficient data compression and indexing."
      ]
    },
    {
      "cell_type": "code",
      "execution_count": 29,
      "metadata": {
        "id": "Ygb42N_t_e0T"
      },
      "outputs": [],
      "source": [
        "# Ignore the NaturalNameWarning\n",
        "warnings.filterwarnings('ignore', category=NaturalNameWarning)\n",
        "\n",
        "# Save the dataframes to HDF5 files\n",
        "train_df.to_hdf('train_df.h5', 'df', mode='w', format='table', data_columns=True)\n",
        "val_df.to_hdf('val_df.h5', 'df', mode='w', format='table', data_columns=True)\n",
        "test_df.to_hdf('test_df.h5', 'df', mode='w', format='table', data_columns=True)\n"
      ]
    },
    {
      "cell_type": "markdown",
      "metadata": {
        "id": "amnyV6pIKzUV"
      },
      "source": [
        "We read train_df and test_df from the HDF5 files \"train_df.h5\" and \"test_df.h5\" into memory using the pd.read_hdf() function. This function reads data stored in HDF5 format and returns it as a pandas DataFrame."
      ]
    },
    {
      "cell_type": "code",
      "execution_count": 30,
      "metadata": {
        "id": "J3JqDxHG_iaV"
      },
      "outputs": [],
      "source": [
        "train_df = pd.read_hdf(\"train_df.h5\")\n",
        "test_df = pd.read_hdf(\"test_df.h5\")"
      ]
    },
    {
      "cell_type": "code",
      "execution_count": 31,
      "metadata": {
        "colab": {
          "base_uri": "https://localhost:8080/"
        },
        "id": "TyRyKwVU_qoA",
        "outputId": "60d8771a-0dd0-428c-9eb1-c88aabacf7cf"
      },
      "outputs": [
        {
          "name": "stdout",
          "output_type": "stream",
          "text": [
            "['bruschetta', 'pizza', 'red_velvet_cake', 'creme_brulee', 'bibimbap', 'risotto', 'peking_duck', 'churros', 'spaghetti_bolognese', 'seaweed_salad', 'french_toast', 'fried_calamari', 'cheese_plate', 'lobster_roll_sandwich', 'pulled_pork_sandwich', 'cup_cakes', 'ceviche', 'caprese_salad', 'gnocchi', 'strawberry_shortcake', 'tiramisu', 'sushi', 'filet_mignon', 'beef_tartare', 'lobster_bisque', 'apple_pie', 'shrimp_and_grits', 'scallops', 'takoyaki', 'cheesecake', 'gyoza', 'carrot_cake', 'greek_salad', 'chicken_curry', 'baklava', 'escargots', 'panna_cotta', 'frozen_yogurt', 'hummus', 'garlic_bread', 'chicken_wings', 'waffles', 'chocolate_cake', 'deviled_eggs', 'samosa', 'grilled_salmon', 'hot_dog', 'beef_carpaccio', 'macarons', 'oysters', 'huevos_rancheros', 'foie_gras', 'pancakes', 'chocolate_mousse', 'ramen', 'hot_and_sour_soup', 'tuna_tartare', 'tacos', 'clam_chowder', 'french_fries', 'hamburger', 'falafel', 'macaroni_and_cheese', 'ravioli', 'steak', 'beet_salad', 'fish_and_chips', 'crab_cakes', 'chicken_quesadilla', 'pad_thai', 'pork_chop', 'french_onion_soup', 'guacamole', 'beignets', 'miso_soup', 'omelette', 'eggs_benedict', 'edamame', 'cannoli', 'mussels', 'lasagna', 'caesar_salad', 'onion_rings', 'pho', 'ice_cream', 'paella', 'club_sandwich', 'breakfast_burrito', 'fried_rice', 'sashimi', 'croque_madame', 'donuts', 'baby_back_ribs', 'nachos', 'dumplings', 'grilled_cheese_sandwich', 'prime_rib', 'poutine', 'bread_pudding', 'spring_rolls', 'spaghetti_carbonara']\n"
          ]
        }
      ],
      "source": [
        "print(os.listdir(\"/content/food41/images\"))\n",
        "epochs = 8\n",
        "batch_size = 64\n",
        "SMALL_DATA = False\n",
        "IMG_SIZE = (384, 384)"
      ]
    },
    {
      "cell_type": "markdown",
      "metadata": {
        "id": "R21sXO_HLsZv"
      },
      "source": [
        "The condition if SMALL_DATA: suggests that there might be a variable named SMALL_DATA elsewhere in the code, likely used to determine whether to use a small subset of the data for faster testing or development.\n",
        "\n",
        "If SMALL_DATA is True, then:\n",
        "\n",
        "- The first 128 rows of the train_df DataFrame are selected and assigned back to train_df.\n",
        "- Similarly, the first 128 rows of the val_df DataFrame are selected and assigned back to val_df.\n",
        "- The first 128 rows of the test_df DataFrame are selected and assigned back to test_df.\n",
        "\n"
      ]
    },
    {
      "cell_type": "code",
      "execution_count": 32,
      "metadata": {
        "id": "Mq91K8_P_6tV"
      },
      "outputs": [],
      "source": [
        "train_df = pd.read_hdf(\"../content/train_df.h5\")\n",
        "val_df = pd.read_hdf(\"../content/val_df.h5\")\n",
        "test_df = pd.read_hdf(\"../content/test_df.h5\")\n",
        "\n",
        "if SMALL_DATA:\n",
        "    train_df = train_df[:128]\n",
        "    val_df = test_df[:128]\n",
        "    test_df = actual_test_df[:128]"
      ]
    },
    {
      "cell_type": "markdown",
      "metadata": {
        "id": "Gk80xvvVMH4G"
      },
      "source": [
        "This line retrieves the column names from the DataFrame train_df and stores them in the list col_names."
      ]
    },
    {
      "cell_type": "code",
      "execution_count": 33,
      "metadata": {
        "id": "lXSXG0lTAAsT"
      },
      "outputs": [],
      "source": [
        "col_names = list(train_df.columns.values)"
      ]
    },
    {
      "cell_type": "markdown",
      "metadata": {
        "id": "-zMHfjgeMr2O"
      },
      "source": [
        "This line assigns the first N-3 column names from col_names to ing_names and then assigns ing_names to targets."
      ]
    },
    {
      "cell_type": "code",
      "execution_count": 34,
      "metadata": {
        "id": "bGs4xdWlAEz5"
      },
      "outputs": [],
      "source": [
        "ing_names = col_names[:-3]\n",
        "targets = ing_names"
      ]
    },
    {
      "cell_type": "markdown",
      "metadata": {
        "id": "WAeDnQk2NEMM"
      },
      "source": [
        "We define DataWrapper function to use with PyTorch's data loader function.\n",
        "\n",
        "- __init__ method initializes the dataset with an image DataFrame and a flag for resizing.\n",
        "- __getitem__ method retrieves an image and its corresponding target labels at a given index.\n",
        "- Image is read, resized (if specified), and converted to PyTorch tensor format.\n",
        "- __len__ method returns the total number of samples in the dataset."
      ]
    },
    {
      "cell_type": "code",
      "execution_count": 35,
      "metadata": {
        "id": "KvQaWO-GAJvn"
      },
      "outputs": [],
      "source": [
        "class DataWrapper(data.Dataset):\n",
        "    ''' Data wrapper for pytorch's data loader function '''\n",
        "    def __init__(self, image_df, resize):\n",
        "        self.dataset = image_df\n",
        "        self.resize = resize\n",
        "\n",
        "    def __getitem__(self, index):\n",
        "        c_row = self.dataset.iloc[index]\n",
        "        target_arr = []\n",
        "        for item in c_row[targets].values:\n",
        "            target_arr.append(item)\n",
        "        image_path, target = c_row['path'], torch.from_numpy(np.array(target_arr)).float()  #image and target\n",
        "        #read as rgb image, resize and convert to range 0 to 1\n",
        "        image = cv2.imread(image_path, 1)\n",
        "        if self.resize:\n",
        "            image = cv2.resize(image, IMG_SIZE)/255.0\n",
        "        else:\n",
        "            image = image/255.0\n",
        "        image = (torch.from_numpy(image.transpose(2,0,1))).float() #NxCxHxW\n",
        "        return image, target\n",
        "\n",
        "    def __len__(self):\n",
        "        return self.dataset.shape[0]"
      ]
    },
    {
      "cell_type": "markdown",
      "metadata": {
        "id": "QTtd8nIz24D1"
      },
      "source": [
        "# Working with ResNet-50 model"
      ]
    },
    {
      "cell_type": "markdown",
      "metadata": {
        "id": "Z9rbgGCBNhCG"
      },
      "source": [
        "We work with pre-trained ResNet-50 model and it modifies its final fully connected layer to match the number of target classes.\n",
        "\n",
        "It then iterates through the child modules of the model.\n",
        "For the first 7 layers (excluding the final fully connected layer), it freezes the parameters (*params.requires_grad = False*). This means that these layers will not be updated during training, and only the parameters of the final fully connected layer will be optimized."
      ]
    },
    {
      "cell_type": "code",
      "execution_count": 36,
      "metadata": {
        "colab": {
          "base_uri": "https://localhost:8080/"
        },
        "id": "bGNp1rSZAUCP",
        "outputId": "13841095-b6ae-4f2b-8089-428c5190d4c5"
      },
      "outputs": [
        {
          "name": "stderr",
          "output_type": "stream",
          "text": [
            "Downloading: \"https://download.pytorch.org/models/resnet50-0676ba61.pth\" to /root/.cache/torch/hub/checkpoints/resnet50-0676ba61.pth\n",
            "100%|██████████| 97.8M/97.8M [00:00<00:00, 173MB/s]\n"
          ]
        }
      ],
      "source": [
        "# Ignore specific warnings\n",
        "warnings.filterwarnings('ignore', message=\"The parameter 'pretrained' is deprecated since 0.13\")\n",
        "warnings.filterwarnings('ignore', message=\"Arguments other than a weight enum or `None` for 'weights' are deprecated since 0.13\")\n",
        "\n",
        "\n",
        "# Load the ResNet50 model with pretrained weights\n",
        "model = models.resnet50(weights=models.ResNet50_Weights.IMAGENET1K_V1)\n",
        "\n",
        "# Freeze layers\n",
        "num_ftrs = model.fc.in_features\n",
        "model.fc = nn.Linear(num_ftrs, len(targets))\n",
        "\n",
        "ct = 0\n",
        "for name, child in model.named_children():\n",
        "    ct += 1\n",
        "    if ct < 8:\n",
        "        for name2, params in child.named_parameters():\n",
        "            params.requires_grad = False\n"
      ]
    },
    {
      "cell_type": "markdown",
      "metadata": {
        "id": "7YU_YMj0N8wH"
      },
      "source": [
        "We set up the training, validation, and test datasets and data loaders for a deep learning model using PyTorch.\n",
        "\n",
        "- **model = model.to(device)**: Moves the model to the specified device (CPU or GPU) for computation.\n",
        "- **criterion = nn.BCEWithLogitsLoss()**: Defines the loss function, Binary Cross Entropy with Logits Loss, suitable for binary classification tasks.\n",
        "- **optimizer = torch.optim.Adam(model.parameters())**: Initializes the Adam optimizer to update the parameters of the model during training.\n",
        "- **train_dataset, val_dataset, test_dataset**: Instances of the DataWrapper class initialized with training, validation, and test DataFrames, respectively, along with a flag indicating whether to resize images.\n",
        "- **train_loader, val_loader, test_loader**: PyTorch data loaders created from the corresponding datasets, with specified batch size and shuffling. pin_memory is set to False to disable pinning memory, which can improve performance when transferring data between CPU and GPU."
      ]
    },
    {
      "cell_type": "code",
      "execution_count": 37,
      "metadata": {
        "id": "1gLjc1cyAX9z"
      },
      "outputs": [],
      "source": [
        "model = model.to(device)\n",
        "criterion = nn.BCEWithLogitsLoss()\n",
        "optimizer = torch.optim.Adam(model.parameters())\n",
        "\n",
        "train_dataset = DataWrapper(train_df, True)\n",
        "train_loader = torch.utils.data.DataLoader(train_dataset,shuffle=True, batch_size=batch_size, pin_memory=False)\n",
        "\n",
        "val_dataset = DataWrapper(val_df, True)\n",
        "val_loader = torch.utils.data.DataLoader(val_dataset,shuffle=True, batch_size=batch_size, pin_memory=False)\n",
        "\n",
        "test_dataset = DataWrapper(test_df, True)\n",
        "test_loader = torch.utils.data.DataLoader(test_dataset,shuffle=True, batch_size=batch_size, pin_memory=False)"
      ]
    },
    {
      "cell_type": "markdown",
      "metadata": {
        "id": "msCZo-JXPe5X"
      },
      "source": [
        "\n",
        "We write a function to calculate Hamming score, it is label-based accuracy, for the multi-label classification case. Here's how it works:\n",
        "\n",
        "- It takes two inputs, y_true and y_pred, which are arrays containing the true and predicted labels for each sample, respectively.\n",
        "- It iterates over each sample in the dataset.\n",
        "- For each sample, it calculates the intersection and union of the sets of true and predicted labels.\n",
        "- It computes the ratio of the size of the intersection to the size of the union, which represents the similarity between the true and predicted label sets.\n",
        "- It computes the average similarity across all samples and returns it as the Hamming score."
      ]
    },
    {
      "cell_type": "code",
      "execution_count": 38,
      "metadata": {
        "id": "-p3aSzkXNotO"
      },
      "outputs": [],
      "source": [
        "def hamming_score(y_true, y_pred, normalize=True, sample_weight=None):\n",
        "    acc_list = []\n",
        "    for i in range(y_true.shape[0]):\n",
        "        set_true = set(np.where(y_true[i])[0])\n",
        "        set_pred = set(np.where(y_pred[i])[0])\n",
        "        tmp_a = None\n",
        "\n",
        "        if len(set_true) == 0 and len(set_pred) == 0:\n",
        "            tmp_a = 1\n",
        "        else:\n",
        "            tmp_a = len(set_true.intersection(set_pred))/\\\n",
        "                    float(len(set_true.union(set_pred)))\n",
        "\n",
        "        acc_list.append(tmp_a)\n",
        "    return np.mean(acc_list)"
      ]
    },
    {
      "cell_type": "markdown",
      "metadata": {
        "id": "-MsRJe9rt2AB"
      },
      "source": [
        "# Train & test with results"
      ]
    },
    {
      "cell_type": "markdown",
      "metadata": {
        "id": "qX9mgCY4RYFj"
      },
      "source": [
        "We train a neural network model for a specified number of epochs (here set to 2) using training data and evaluates its performance on a validation dataset. During each epoch, it iterates over mini-batches of the training data, computes the loss, and updates the model's parameters using backpropagation. After each epoch, it evaluates the model on the validation dataset and computes various metrics such as F1 score, accuracy, and loss. The model with the best accuracy on the validation set is saved. Finally, it plots the training curves and saves the figure as 'train_curves.png'.\n",
        "\n",
        "\n",
        "\n",
        "1. Initialization: Initialize necessary variables like train_results, train_iter, test_iter, and best_acc. Set up a plot with subplots for visualizing training and testing metrics.\n",
        "\n",
        "2. Training Loop: Iterate over a fixed number of epochs (tnrange(2) in this case). Within each epoch:\n",
        "\n",
        "     - Switch the model to training mode (model.train()).\n",
        "     - Iterate over mini-batches of the training data (train_loader).\n",
        "     - Compute forward pass, loss, and gradients, and update model parameters.\n",
        "     - Track training loss and accuracy.\n",
        "\n",
        "3. Validation Loop: After each epoch, switch the model to evaluation mode (model.eval()).\n",
        "\n",
        "      - Iterate over mini-batches of the validation data (val_loader).\n",
        "      - Compute forward pass and loss without updating parameters.\n",
        "      - Track validation loss and accuracy.\n",
        "\n",
        "4. Metrics Computation: After each epoch:\n",
        "\n",
        "      - Compute various evaluation metrics like F1 score, precision, recall, and Hamming score for both training and validation sets.\n",
        "      - Store the metrics in train_results and f1_scores.\n",
        "\n",
        "5. Save Best Model: If the current model achieves a higher accuracy on the validation set than the previous best model, save its parameters as the new best model.\n",
        "\n",
        "6. Visualization: Plot training curves (loss and accuracy) for both training and validation sets.\n",
        "\n",
        "7. Save Figures: Save the plot as an image file (train_curves.png)."
      ]
    },
    {
      "cell_type": "code",
      "execution_count": 39,
      "metadata": {
        "colab": {
          "base_uri": "https://localhost:8080/",
          "height": 1000,
          "referenced_widgets": [
            "0a53b3f9191245e3855263fba80a8b3a",
            "d6647337894d47058ea26f3a659e121b",
            "48e488c6ce3b46eea9f43ff063162b5d",
            "9ff640e5f3074243bacfcc65f711a6e1",
            "bb24c2cb0d6349268f6a76d6108fc930",
            "04f3f7275b604d47a9e0948e2536c43b",
            "4a7ded665d7f4896817a96f9a30a26f9",
            "39ea28401de24d4a9b6bab14721845ef",
            "aa28462c70de46efba022ce0a0dc9553",
            "3ff3a8c8aac44c30bcac96d5d7f23a6e",
            "567481495d624b4c814c554320c0bcda",
            "672b246bf4cf44a0b1cdcc989eb2004f",
            "941fc6c459bf4b31bab43950801c8af1",
            "e7d5468bc1934d5c97b172a24e48faa3",
            "2fbcfc53bdc147e3a7bb97dae007f768",
            "0b15af656a8e47d187f5c0f879d05f92",
            "774f4cc89423469a8306ff3b8b50bbc5",
            "dbeb6d5d09fc45b8bb9f64d8a8b00e7c",
            "e45b365cffb64178ac7d522a265ea51f",
            "381673bdda9b4a829ee976ff8c005025",
            "c4a78f1521e84fe0bec8f768b231b987",
            "f69dca53090446908b3e6d408ee4450c",
            "a9250be421c64b85ad44b1cd25a2398c",
            "97a970d3acca4eb49d7f24dbcac82000",
            "e40339fd74f843b89926677751f6f104",
            "a58593b9945a404ebc5c0b2b0c259762",
            "406fbb393f60424182cc3e957631bcce",
            "ed8fa5b48922415b9258f191593c6c83",
            "647cc9f594f14e95b4c0746439b84f1a",
            "a427c7911aea4d39b45200ad1868ab90",
            "d2524d14949d4ea6bc1115ad0e4fc198",
            "6ffcdff99c1b41619fa517a4473c31d8",
            "d11786d36d17470f8d5f3a2e93f516d1",
            "ff4fa63a8ef545a9ab3f8ed40af1a347",
            "8b1975a903ae4cf3aa8978414b3ae1e7",
            "c58bb67795ef43699546f23dea6612e7",
            "0051001765c74f58b24f6e5879f5e4c7",
            "a25ec04034724cc9b730f966f9680d83",
            "4f39379d94fb44d0b15496b3f8aa3ceb",
            "f702625c9b1742ac825cb7496e38a56d",
            "6b1f4adff6a64cd08947c3f785040f34",
            "5a3cb31b904f4833afc2f535c51e8400",
            "0698e842bd2b4d46b2e6d9035b333113",
            "3b67f04befe141da80e7c9bda07ac40f",
            "f9c27a6d46774fd69e4dab4b99fef4ae",
            "d956d517b49647aba0063b8dc4de7fc8",
            "686499dcfa4a472f864fd5df52d4b50e",
            "07f79c3b490c4ee693b56bff737bbb7b",
            "68dbfe926f574c2aa03e712231fa8eea",
            "20cc6d10f81d4931b55a20b4f10c8221",
            "72723fb6eb29494d9e0cfa0e8b6442dd",
            "ce1624835f4c424b8b12445dd409d620",
            "18582bdffc424c5aac18ac2c9b001f2a",
            "6a01f83ca1f54481b1beab98d5512fe9",
            "5a153d864e85462bb129843da945fa81"
          ]
        },
        "id": "v8fPU2sHQD4N",
        "outputId": "2f0a1904-a8ea-4287-831a-314924096cc8"
      },
      "outputs": [
        {
          "name": "stderr",
          "output_type": "stream",
          "text": [
            "<ipython-input-39-1fc7f7613545>:11: TqdmDeprecationWarning: Please use `tqdm.notebook.trange` instead of `tqdm.tnrange`\n",
            "  for i in tnrange(2, desc='Epochs'):  # Set to run only 2 epochs\n"
          ]
        },
        {
          "data": {
            "application/vnd.jupyter.widget-view+json": {
              "model_id": "0a53b3f9191245e3855263fba80a8b3a",
              "version_major": 2,
              "version_minor": 0
            },
            "text/plain": [
              "Epochs:   0%|          | 0/2 [00:00<?, ?it/s]"
            ]
          },
          "metadata": {},
          "output_type": "display_data"
        },
        {
          "name": "stdout",
          "output_type": "stream",
          "text": [
            "Epoch  0\n"
          ]
        },
        {
          "name": "stderr",
          "output_type": "stream",
          "text": [
            "<ipython-input-39-1fc7f7613545>:21: TqdmDeprecationWarning: This function will be removed in tqdm==5.0.0\n",
            "Please use `tqdm.notebook.tqdm` instead of `tqdm.tqdm_notebook`\n",
            "  for img_data, target in tqdm_notebook(train_loader, desc='Training'):\n"
          ]
        },
        {
          "data": {
            "application/vnd.jupyter.widget-view+json": {
              "model_id": "672b246bf4cf44a0b1cdcc989eb2004f",
              "version_major": 2,
              "version_minor": 0
            },
            "text/plain": [
              "Training:   0%|          | 0/1066 [00:00<?, ?it/s]"
            ]
          },
          "metadata": {},
          "output_type": "display_data"
        },
        {
          "name": "stderr",
          "output_type": "stream",
          "text": [
            "/usr/local/lib/python3.10/dist-packages/sklearn/metrics/_classification.py:1344: UndefinedMetricWarning: Precision is ill-defined and being set to 0.0 in samples with no predicted labels. Use `zero_division` parameter to control this behavior.\n",
            "  _warn_prf(average, modifier, msg_start, len(result))\n"
          ]
        },
        {
          "name": "stdout",
          "output_type": "stream",
          "text": [
            "Training loss:  0.00135085291015739  train acc:  0.9698961437994019\n"
          ]
        },
        {
          "name": "stderr",
          "output_type": "stream",
          "text": [
            "<ipython-input-39-1fc7f7613545>:73: TqdmDeprecationWarning: This function will be removed in tqdm==5.0.0\n",
            "Please use `tqdm.notebook.tqdm` instead of `tqdm.tqdm_notebook`\n",
            "  for img_data, target in tqdm_notebook(val_loader, desc='Testing'):\n"
          ]
        },
        {
          "data": {
            "application/vnd.jupyter.widget-view+json": {
              "model_id": "a9250be421c64b85ad44b1cd25a2398c",
              "version_major": 2,
              "version_minor": 0
            },
            "text/plain": [
              "Testing:   0%|          | 0/119 [00:00<?, ?it/s]"
            ]
          },
          "metadata": {},
          "output_type": "display_data"
        },
        {
          "name": "stderr",
          "output_type": "stream",
          "text": [
            "/usr/local/lib/python3.10/dist-packages/sklearn/metrics/_classification.py:1344: UndefinedMetricWarning: Precision is ill-defined and being set to 0.0 in samples with no predicted labels. Use `zero_division` parameter to control this behavior.\n",
            "  _warn_prf(average, modifier, msg_start, len(result))\n"
          ]
        },
        {
          "name": "stdout",
          "output_type": "stream",
          "text": [
            "Test set accuracy:  0.9757334147511667\n",
            "Epoch  1\n"
          ]
        },
        {
          "name": "stderr",
          "output_type": "stream",
          "text": [
            "<ipython-input-39-1fc7f7613545>:21: TqdmDeprecationWarning: This function will be removed in tqdm==5.0.0\n",
            "Please use `tqdm.notebook.tqdm` instead of `tqdm.tqdm_notebook`\n",
            "  for img_data, target in tqdm_notebook(train_loader, desc='Training'):\n"
          ]
        },
        {
          "data": {
            "application/vnd.jupyter.widget-view+json": {
              "model_id": "ff4fa63a8ef545a9ab3f8ed40af1a347",
              "version_major": 2,
              "version_minor": 0
            },
            "text/plain": [
              "Training:   0%|          | 0/1066 [00:00<?, ?it/s]"
            ]
          },
          "metadata": {},
          "output_type": "display_data"
        },
        {
          "name": "stderr",
          "output_type": "stream",
          "text": [
            "/usr/local/lib/python3.10/dist-packages/sklearn/metrics/_classification.py:1344: UndefinedMetricWarning: Precision is ill-defined and being set to 0.0 in samples with no predicted labels. Use `zero_division` parameter to control this behavior.\n",
            "  _warn_prf(average, modifier, msg_start, len(result))\n"
          ]
        },
        {
          "name": "stdout",
          "output_type": "stream",
          "text": [
            "Training loss:  0.0008738007597272807  train acc:  0.9800465567849003\n"
          ]
        },
        {
          "name": "stderr",
          "output_type": "stream",
          "text": [
            "<ipython-input-39-1fc7f7613545>:73: TqdmDeprecationWarning: This function will be removed in tqdm==5.0.0\n",
            "Please use `tqdm.notebook.tqdm` instead of `tqdm.tqdm_notebook`\n",
            "  for img_data, target in tqdm_notebook(val_loader, desc='Testing'):\n"
          ]
        },
        {
          "data": {
            "application/vnd.jupyter.widget-view+json": {
              "model_id": "f9c27a6d46774fd69e4dab4b99fef4ae",
              "version_major": 2,
              "version_minor": 0
            },
            "text/plain": [
              "Testing:   0%|          | 0/119 [00:00<?, ?it/s]"
            ]
          },
          "metadata": {},
          "output_type": "display_data"
        },
        {
          "name": "stderr",
          "output_type": "stream",
          "text": [
            "/usr/local/lib/python3.10/dist-packages/sklearn/metrics/_classification.py:1344: UndefinedMetricWarning: Precision is ill-defined and being set to 0.0 in samples with no predicted labels. Use `zero_division` parameter to control this behavior.\n",
            "  _warn_prf(average, modifier, msg_start, len(result))\n"
          ]
        },
        {
          "name": "stdout",
          "output_type": "stream",
          "text": [
            "Test set accuracy:  0.980540556258269\n"
          ]
        },
        {
          "data": {
            "image/png": "[encoded data removed]",
            "text/plain": [
              "<Figure size 1000x1000 with 4 Axes>"
            ]
          },
          "metadata": {},
          "output_type": "display_data"
        }
      ],
      "source": [
        "\n",
        "train_results = defaultdict(list)\n",
        "train_iter, test_iter, best_acc = 0,0,0\n",
        "fig, ((ax1, ax2), (ax3, ax4)) = plt.subplots(2, 2, figsize=(10, 10))\n",
        "ax1.set_title('Train Loss')\n",
        "ax2.set_title('Train Accuracy')\n",
        "ax3.set_title('Test Loss')\n",
        "ax4.set_title('Test Accuracy')\n",
        "\n",
        "f1_scores = defaultdict(list)\n",
        "\n",
        "for i in tnrange(2, desc='Epochs'):  # Set to run only 2 epochs\n",
        "    print(\"Epoch \", i)\n",
        "    ## Train Phase\n",
        "    # Model switches to train phase\n",
        "    model.train()\n",
        "\n",
        "    all_outputs = []\n",
        "    all_targets = []\n",
        "    # Running through all mini batches in the dataset\n",
        "    count, loss_val, correct, total = train_iter, 0, 0, 0\n",
        "    for img_data, target in tqdm_notebook(train_loader, desc='Training'):\n",
        "        img_data, target = img_data.to(device), target.to(device)\n",
        "\n",
        "        output = model(img_data)  # FWD prop\n",
        "\n",
        "        loss = criterion(output, target)  # Cross entropy loss\n",
        "        c_loss = loss.data.item()\n",
        "        ax1.plot(count, c_loss, 'r.')\n",
        "        loss_val += c_loss\n",
        "\n",
        "        optimizer.zero_grad()  # Zero out any cached gradients\n",
        "        loss.backward()  # Backward pass\n",
        "        optimizer.step()  # Update the weights\n",
        "\n",
        "        total_batch = (target.size(0) * target.size(1))\n",
        "        total += total_batch\n",
        "        output_data = torch.sigmoid(output) >= 0.5\n",
        "        target_data = (target == 1.0)\n",
        "        for arr1, arr2 in zip(output_data, target_data):\n",
        "            all_outputs.append(list(arr1.cpu().numpy()))\n",
        "            all_targets.append(list(arr2.cpu().numpy()))\n",
        "        c_acc = torch.sum((output_data == target_data.to(device)).to(torch.float)).item()\n",
        "        ax2.plot(count, c_acc / total_batch, 'r.')\n",
        "        correct += c_acc\n",
        "        count += 1\n",
        "\n",
        "    all_outputs = np.array(all_outputs)\n",
        "    all_targets = np.array(all_targets)\n",
        "    f1score_samples = f1_score(y_true=all_targets, y_pred=all_outputs, average='samples')\n",
        "    f1score_macro = f1_score(y_true=all_targets, y_pred=all_outputs, average='macro')\n",
        "    f1score_weighted = f1_score(y_true=all_targets, y_pred=all_outputs, average='weighted')\n",
        "    recall = recall_score(y_true=all_targets, y_pred=all_outputs, average='samples')\n",
        "    prec = precision_score(y_true=all_targets, y_pred=all_outputs, average='samples')\n",
        "    hamming = hamming_score(y_true=all_targets, y_pred=all_outputs)\n",
        "\n",
        "    f1_scores[\"samples_train\"].append(f1score_samples)\n",
        "    f1_scores[\"macro_train\"].append(f1score_macro)\n",
        "    f1_scores[\"weighted_train\"].append(f1score_weighted)\n",
        "    f1_scores[\"hamming_train\"].append(hamming)\n",
        "\n",
        "    train_loss_val, train_iter, train_acc = loss_val / len(train_loader.dataset), count, correct / float(total)\n",
        "\n",
        "    print(\"Training loss: \", train_loss_val, \" train acc: \", train_acc)\n",
        "    ## Test Phase\n",
        "\n",
        "    # Model switches to test phase\n",
        "    model.eval()\n",
        "\n",
        "    all_outputs = []\n",
        "    all_targets = []\n",
        "    # Running through all mini batches in the dataset\n",
        "    count, correct, total, lost_val = test_iter, 0, 0, 0\n",
        "    for img_data, target in tqdm_notebook(val_loader, desc='Testing'):\n",
        "        img_data, target = img_data.to(device), target.to(device)\n",
        "        output = model(img_data)\n",
        "        loss = criterion(output, target)  # Cross entropy loss\n",
        "        c_loss = loss.data.item()\n",
        "        ax3.plot(count, c_loss, 'b.')\n",
        "        loss_val += c_loss\n",
        "        # Compute accuracy\n",
        "        total_batch = (target.size(0) * target.size(1))\n",
        "        total += total_batch\n",
        "        output_data = torch.sigmoid(output) >= 0.5\n",
        "        target_data = (target == 1.0)\n",
        "        for arr1, arr2 in zip(output_data, target_data):\n",
        "            all_outputs.append(list(arr1.cpu().numpy()))\n",
        "            all_targets.append(list(arr2.cpu().numpy()))\n",
        "        c_acc = torch.sum((output_data == target_data.to(device)).to(torch.float)).item()\n",
        "        ax4.plot(count, c_acc / total_batch, 'b.')\n",
        "        correct += c_acc\n",
        "        count += 1\n",
        "\n",
        "    # F1 Score\n",
        "    all_outputs = np.array(all_outputs)\n",
        "    all_targets = np.array(all_targets)\n",
        "    f1score_samples = f1_score(y_true=all_targets, y_pred=all_outputs, average='samples')\n",
        "    f1score_macro = f1_score(y_true=all_targets, y_pred=all_outputs, average='macro')\n",
        "    f1score_weighted = f1_score(y_true=all_targets, y_pred=all_outputs, average='weighted')\n",
        "    recall = recall_score(y_true=all_targets, y_pred=all_outputs, average='samples')\n",
        "    prec = precision_score(y_true=all_targets, y_pred=all_outputs, average='samples')\n",
        "    hamming = hamming_score(y_true=all_targets, y_pred=all_outputs)\n",
        "\n",
        "    f1_scores[\"samples_test\"].append(f1score_samples)\n",
        "    f1_scores[\"macro_test\"].append(f1score_macro)\n",
        "    f1_scores[\"weighted_test\"].append(f1score_weighted)\n",
        "    f1_scores[\"hamming_test\"].append(hamming)\n",
        "\n",
        "    # Accuracy over entire dataset\n",
        "    test_acc, test_iter, test_loss_val = correct / float(total), count, loss_val / len(test_loader.dataset)\n",
        "    print(\"Test set accuracy: \", test_acc)\n",
        "\n",
        "    train_results['epoch'].append(i)\n",
        "    train_results['train_loss'].append(train_loss_val)\n",
        "    train_results['train_acc'].append(train_acc)\n",
        "    train_results['train_iter'].append(train_iter)\n",
        "\n",
        "    train_results['test_loss'].append(test_loss_val)\n",
        "    train_results['test_acc'].append(test_acc)\n",
        "    train_results['test_iter'].append(test_iter)\n",
        "\n",
        "    # Save model with best accuracy\n",
        "    if test_acc > best_acc:\n",
        "        best_acc = test_acc\n",
        "        torch.save(model.state_dict(), 'best_model.pth')\n",
        "fig.savefig('train_curves.png')\n"
      ]
    },
    {
      "cell_type": "markdown",
      "metadata": {
        "id": "abr_OLywWYhR"
      },
      "source": [
        "This code prints out the training and validation results in terms of F1 score (both samples and weighted), and Hamming score. It helps to track the performance of the model during training and validation.\n",
        "\n",
        "\n",
        "F1 score is a measure of a model's accuracy that considers both precision and recall. It is the harmonic mean of precision and recall,\n",
        "\n",
        "It provides a balance between precision and recall, making it useful for evaluating the performance of classification models, especially in situations where there is an imbalance between the classes or when both false positives and false negatives are important."
      ]
    },
    {
      "cell_type": "code",
      "execution_count": 40,
      "metadata": {
        "colab": {
          "base_uri": "https://localhost:8080/"
        },
        "id": "OgLCeHXWBzZ4",
        "outputId": "06a4dd64-28d1-4faf-8a8f-38a49f9782c2"
      },
      "outputs": [
        {
          "name": "stdout",
          "output_type": "stream",
          "text": [
            "TRAIN\n",
            "F1 Samples:  [0.3934082192898438, 0.6220413218324112]\n",
            "F1 Weighted:  [0.44728807404740323, 0.6875800243275232]\n",
            "Hamming:  [0.31206272020734366, 0.5494248324351657]\n",
            "\n",
            "==============\n",
            "VALIDATION\n",
            "F1 Samples:  [0.5505516400072039, 0.6390202759997106]\n",
            "F1 Weighted:  [0.6070222527009453, 0.6942469827708471]\n",
            "Hamming:  [0.4701418456575726, 0.5727705797151614]\n"
          ]
        }
      ],
      "source": [
        "\n",
        "print(\"TRAIN\")\n",
        "print(\"F1 Samples: \", f1_scores[\"samples_train\"])\n",
        "print(\"F1 Weighted: \", f1_scores[\"weighted_train\"])\n",
        "print(\"Hamming: \", f1_scores[\"hamming_train\"])\n",
        "print()\n",
        "print(\"==============\")\n",
        "print(\"VALIDATION\")\n",
        "print(\"F1 Samples: \", f1_scores[\"samples_test\"])\n",
        "print(\"F1 Weighted: \", f1_scores[\"weighted_test\"])\n",
        "print(\"Hamming: \", f1_scores[\"hamming_test\"])"
      ]
    },
    {
      "cell_type": "markdown",
      "metadata": {
        "id": "nlA_CxScWx7K"
      },
      "source": [
        "We perform inference on the test dataset using the trained model:\n",
        "\n",
        "- It loads the trained model weights from the file \"best_model.pth\" using torch.load and loads these weights into the model using model.load_state_dict.\n",
        "- The model is then set to evaluation mode using model.eval() to disable dropout and batch normalization layers.\n",
        "- It iterates over all mini-batches in the test dataset using test_loader.\n",
        "- For each mini-batch:\n",
        "     - Input data and targets are moved to the specified device (CPU or GPU).\n",
        "     - Forward pass of the model is performed to obtain predictions (output).\n",
        "     - Loss is computed using a specified criterion (here, Binary Cross Entropy with Logits Loss), but the loss value is not used further.\n",
        "     - Predictions and targets are stored for computing evaluation metrics later.\n",
        "     - Accuracy is computed and plotted.\n",
        "\n",
        "\n",
        "- After processing all mini-batches:\n",
        "      - Evaluation metrics such as F1 score, recall, precision, and Hamming score are computed based on all predictions and targets, similar to the training and validation phases.\n",
        "      - These metrics provide insights into the model's performance on the test dataset.\n"
      ]
    },
    {
      "cell_type": "code",
      "execution_count": 41,
      "metadata": {
        "colab": {
          "base_uri": "https://localhost:8080/",
          "height": 156,
          "referenced_widgets": [
            "22c59b56c90a4455a27a687293449027",
            "2317a5df4f8144f7996b5902b7677d14",
            "07394a8ea1cf47f9a22fdf282897f99d",
            "369bcd8897bc472c8cd34440a55edc06",
            "9a80206a7261471b874bdcdc7b86b228",
            "a41a24379a0c4dd6be74843d48e2b4e1",
            "ceb17b4df41446b0b44a3f2a1acca980",
            "abdd8f93760b440bae7b007259b9bf43",
            "1cad825fd59d41139c6ac9ec302901d8",
            "59c380632dd74ce4b5a75aeea2d31b16",
            "f366461fd9d1467e966750accd2d9acb"
          ]
        },
        "id": "6RPhqNoPB8yU",
        "outputId": "b6d0b0ac-29a9-4e40-eef4-eb310d90515e"
      },
      "outputs": [
        {
          "name": "stderr",
          "output_type": "stream",
          "text": [
            "<ipython-input-41-d41e550e40ab>:12: TqdmDeprecationWarning: This function will be removed in tqdm==5.0.0\n",
            "Please use `tqdm.notebook.tqdm` instead of `tqdm.tqdm_notebook`\n",
            "  for img_data, target in tqdm_notebook(test_loader, desc='Testing'):\n"
          ]
        },
        {
          "data": {
            "application/vnd.jupyter.widget-view+json": {
              "model_id": "22c59b56c90a4455a27a687293449027",
              "version_major": 2,
              "version_minor": 0
            },
            "text/plain": [
              "Testing:   0%|          | 0/395 [00:00<?, ?it/s]"
            ]
          },
          "metadata": {},
          "output_type": "display_data"
        },
        {
          "name": "stderr",
          "output_type": "stream",
          "text": [
            "/usr/local/lib/python3.10/dist-packages/sklearn/metrics/_classification.py:1344: UndefinedMetricWarning: Precision is ill-defined and being set to 0.0 in samples with no predicted labels. Use `zero_division` parameter to control this behavior.\n",
            "  _warn_prf(average, modifier, msg_start, len(result))\n"
          ]
        }
      ],
      "source": [
        "#Inference on test\n",
        "model_path = \"best_model.pth\"\n",
        "model.load_state_dict(torch.load(model_path))\n",
        "model.to(device)\n",
        "for param in model.parameters():\n",
        "    param.requires_grad = False\n",
        "model.eval()\n",
        "\n",
        "#Run predictions\n",
        "all_outputs = []\n",
        "all_targets = []\n",
        "for img_data, target in tqdm_notebook(test_loader, desc='Testing'):\n",
        "    img_data, target = img_data.to(device), target.to(device)\n",
        "    output = model(img_data)\n",
        "    loss = criterion(output, target) #Cross entropy loss\n",
        "    c_loss = loss.data.item()\n",
        "    ax3.plot(count, c_loss, 'b.')\n",
        "    loss_val += c_loss\n",
        "\n",
        "    total_batch = (target.size(0) * target.size(1))\n",
        "    total += total_batch\n",
        "    output_data = torch.sigmoid(output)>=0.5\n",
        "    target_data = (target==1.0)\n",
        "\n",
        "    for arr1,arr2 in zip(output_data, target_data):\n",
        "        all_outputs.append(list(arr1.cpu().numpy()))\n",
        "        all_targets.append(list(arr2.cpu().numpy()))\n",
        "    c_acc = torch.sum((output_data == target_data.to(device)).to(torch.float)).item()\n",
        "    ax4.plot(count, c_acc/total_batch, 'b.')\n",
        "    correct += c_acc\n",
        "    count += 1\n",
        "\n",
        "\n",
        "#F1 Score\n",
        "all_outputs = np.array(all_outputs)\n",
        "all_targets = np.array(all_targets)\n",
        "f1score_samples = f1_score(y_true=all_targets, y_pred=all_outputs, average='samples')\n",
        "f1score_macro = f1_score(y_true=all_targets, y_pred=all_outputs, average='macro')\n",
        "f1score_weighted = f1_score(y_true=all_targets, y_pred=all_outputs, average='weighted')\n",
        "recall = recall_score(y_true=all_targets, y_pred=all_outputs, average='samples')\n",
        "prec = precision_score(y_true=all_targets, y_pred=all_outputs, average='samples')\n",
        "hamming = hamming_score(y_true=all_targets, y_pred=all_outputs)"
      ]
    },
    {
      "cell_type": "markdown",
      "metadata": {
        "id": "3whQ_CmsXwgv"
      },
      "source": [
        "\n",
        "This code prints out the evaluation metrics, including F1 score (samples and weighted) and Hamming score, for the test dataset."
      ]
    },
    {
      "cell_type": "code",
      "execution_count": 42,
      "metadata": {
        "colab": {
          "base_uri": "https://localhost:8080/"
        },
        "id": "hBvTNmCICDYb",
        "outputId": "3df07a28-b2a9-4d5d-ef9d-a180f0217ccb"
      },
      "outputs": [
        {
          "name": "stdout",
          "output_type": "stream",
          "text": [
            "TEST\n",
            "F1 Samples:  0.682704290942853\n",
            "F1 Weighted:  0.731832472541877\n",
            "Hamming:  0.6193947588821528\n"
          ]
        }
      ],
      "source": [
        "print(\"TEST\")\n",
        "print(\"F1 Samples: \", f1score_samples)\n",
        "print(\"F1 Weighted: \", f1score_weighted)\n",
        "print(\"Hamming: \", hamming)"
      ]
    }
  ],
  "metadata": {
    "accelerator": "GPU",
    "colab": {
      "collapsed_sections": [
        "hAZPQY5g0l42",
        "L4YDJyo1V7kb",
        "_j3P_R56htfF",
        "go1N57wy2BYK",
        "4PHDZ6Uf2PlC",
        "QTtd8nIz24D1",
        "-MsRJe9rt2AB"
      ],
      "gpuType": "T4",
      "provenance": []
    },
    "kernelspec": {
      "display_name": "Python 3",
      "name": "python3"
    },
    "language_info": {
      "name": "python"
    },
    "widgets": {
      "application/vnd.jupyter.widget-state+json": {
        "0051001765c74f58b24f6e5879f5e4c7": {
          "model_module": "@jupyter-widgets/controls",
          "model_module_version": "1.5.0",
          "model_name": "HTMLModel",
          "state": {
            "_dom_classes": [],
            "_model_module": "@jupyter-widgets/controls",
            "_model_module_version": "1.5.0",
            "_model_name": "HTMLModel",
            "_view_count": null,
            "_view_module": "@jupyter-widgets/controls",
            "_view_module_version": "1.5.0",
            "_view_name": "HTMLView",
            "description": "",
            "description_tooltip": null,
            "layout": "IPY_MODEL_0698e842bd2b4d46b2e6d9035b333113",
            "placeholder": "​",
            "style": "IPY_MODEL_3b67f04befe141da80e7c9bda07ac40f",
            "value": " 1066/1066 [21:39&lt;00:00,  1.02it/s]"
          }
        },
        "04f3f7275b604d47a9e0948e2536c43b": {
          "model_module": "@jupyter-widgets/base",
          "model_module_version": "1.2.0",
          "model_name": "LayoutModel",
          "state": {
            "_model_module": "@jupyter-widgets/base",
            "_model_module_version": "1.2.0",
            "_model_name": "LayoutModel",
            "_view_count": null,
            "_view_module": "@jupyter-widgets/base",
            "_view_module_version": "1.2.0",
            "_view_name": "LayoutView",
            "align_content": null,
            "align_items": null,
            "align_self": null,
            "border": null,
            "bottom": null,
            "display": null,
            "flex": null,
            "flex_flow": null,
            "grid_area": null,
            "grid_auto_columns": null,
            "grid_auto_flow": null,
            "grid_auto_rows": null,
            "grid_column": null,
            "grid_gap": null,
            "grid_row": null,
            "grid_template_areas": null,
            "grid_template_columns": null,
            "grid_template_rows": null,
            "height": null,
            "justify_content": null,
            "justify_items": null,
            "left": null,
            "margin": null,
            "max_height": null,
            "max_width": null,
            "min_height": null,
            "min_width": null,
            "object_fit": null,
            "object_position": null,
            "order": null,
            "overflow": null,
            "overflow_x": null,
            "overflow_y": null,
            "padding": null,
            "right": null,
            "top": null,
            "visibility": null,
            "width": null
          }
        },
        "0698e842bd2b4d46b2e6d9035b333113": {
          "model_module": "@jupyter-widgets/base",
          "model_module_version": "1.2.0",
          "model_name": "LayoutModel",
          "state": {
            "_model_module": "@jupyter-widgets/base",
            "_model_module_version": "1.2.0",
            "_model_name": "LayoutModel",
            "_view_count": null,
            "_view_module": "@jupyter-widgets/base",
            "_view_module_version": "1.2.0",
            "_view_name": "LayoutView",
            "align_content": null,
            "align_items": null,
            "align_self": null,
            "border": null,
            "bottom": null,
            "display": null,
            "flex": null,
            "flex_flow": null,
            "grid_area": null,
            "grid_auto_columns": null,
            "grid_auto_flow": null,
            "grid_auto_rows": null,
            "grid_column": null,
            "grid_gap": null,
            "grid_row": null,
            "grid_template_areas": null,
            "grid_template_columns": null,
            "grid_template_rows": null,
            "height": null,
            "justify_content": null,
            "justify_items": null,
            "left": null,
            "margin": null,
            "max_height": null,
            "max_width": null,
            "min_height": null,
            "min_width": null,
            "object_fit": null,
            "object_position": null,
            "order": null,
            "overflow": null,
            "overflow_x": null,
            "overflow_y": null,
            "padding": null,
            "right": null,
            "top": null,
            "visibility": null,
            "width": null
          }
        },
        "07394a8ea1cf47f9a22fdf282897f99d": {
          "model_module": "@jupyter-widgets/controls",
          "model_module_version": "1.5.0",
          "model_name": "FloatProgressModel",
          "state": {
            "_dom_classes": [],
            "_model_module": "@jupyter-widgets/controls",
            "_model_module_version": "1.5.0",
            "_model_name": "FloatProgressModel",
            "_view_count": null,
            "_view_module": "@jupyter-widgets/controls",
            "_view_module_version": "1.5.0",
            "_view_name": "ProgressView",
            "bar_style": "success",
            "description": "",
            "description_tooltip": null,
            "layout": "IPY_MODEL_abdd8f93760b440bae7b007259b9bf43",
            "max": 395,
            "min": 0,
            "orientation": "horizontal",
            "style": "IPY_MODEL_1cad825fd59d41139c6ac9ec302901d8",
            "value": 395
          }
        },
        "07f79c3b490c4ee693b56bff737bbb7b": {
          "model_module": "@jupyter-widgets/controls",
          "model_module_version": "1.5.0",
          "model_name": "HTMLModel",
          "state": {
            "_dom_classes": [],
            "_model_module": "@jupyter-widgets/controls",
            "_model_module_version": "1.5.0",
            "_model_name": "HTMLModel",
            "_view_count": null,
            "_view_module": "@jupyter-widgets/controls",
            "_view_module_version": "1.5.0",
            "_view_name": "HTMLView",
            "description": "",
            "description_tooltip": null,
            "layout": "IPY_MODEL_6a01f83ca1f54481b1beab98d5512fe9",
            "placeholder": "​",
            "style": "IPY_MODEL_5a153d864e85462bb129843da945fa81",
            "value": " 119/119 [01:58&lt;00:00,  1.12it/s]"
          }
        },
        "0a53b3f9191245e3855263fba80a8b3a": {
          "model_module": "@jupyter-widgets/controls",
          "model_module_version": "1.5.0",
          "model_name": "HBoxModel",
          "state": {
            "_dom_classes": [],
            "_model_module": "@jupyter-widgets/controls",
            "_model_module_version": "1.5.0",
            "_model_name": "HBoxModel",
            "_view_count": null,
            "_view_module": "@jupyter-widgets/controls",
            "_view_module_version": "1.5.0",
            "_view_name": "HBoxView",
            "box_style": "",
            "children": [
              "IPY_MODEL_d6647337894d47058ea26f3a659e121b",
              "IPY_MODEL_48e488c6ce3b46eea9f43ff063162b5d",
              "IPY_MODEL_9ff640e5f3074243bacfcc65f711a6e1"
            ],
            "layout": "IPY_MODEL_bb24c2cb0d6349268f6a76d6108fc930"
          }
        },
        "0b15af656a8e47d187f5c0f879d05f92": {
          "model_module": "@jupyter-widgets/base",
          "model_module_version": "1.2.0",
          "model_name": "LayoutModel",
          "state": {
            "_model_module": "@jupyter-widgets/base",
            "_model_module_version": "1.2.0",
            "_model_name": "LayoutModel",
            "_view_count": null,
            "_view_module": "@jupyter-widgets/base",
            "_view_module_version": "1.2.0",
            "_view_name": "LayoutView",
            "align_content": null,
            "align_items": null,
            "align_self": null,
            "border": null,
            "bottom": null,
            "display": null,
            "flex": null,
            "flex_flow": null,
            "grid_area": null,
            "grid_auto_columns": null,
            "grid_auto_flow": null,
            "grid_auto_rows": null,
            "grid_column": null,
            "grid_gap": null,
            "grid_row": null,
            "grid_template_areas": null,
            "grid_template_columns": null,
            "grid_template_rows": null,
            "height": null,
            "justify_content": null,
            "justify_items": null,
            "left": null,
            "margin": null,
            "max_height": null,
            "max_width": null,
            "min_height": null,
            "min_width": null,
            "object_fit": null,
            "object_position": null,
            "order": null,
            "overflow": null,
            "overflow_x": null,
            "overflow_y": null,
            "padding": null,
            "right": null,
            "top": null,
            "visibility": null,
            "width": null
          }
        },
        "18582bdffc424c5aac18ac2c9b001f2a": {
          "model_module": "@jupyter-widgets/controls",
          "model_module_version": "1.5.0",
          "model_name": "ProgressStyleModel",
          "state": {
            "_model_module": "@jupyter-widgets/controls",
            "_model_module_version": "1.5.0",
            "_model_name": "ProgressStyleModel",
            "_view_count": null,
            "_view_module": "@jupyter-widgets/base",
            "_view_module_version": "1.2.0",
            "_view_name": "StyleView",
            "bar_color": null,
            "description_width": ""
          }
        },
        "1cad825fd59d41139c6ac9ec302901d8": {
          "model_module": "@jupyter-widgets/controls",
          "model_module_version": "1.5.0",
          "model_name": "ProgressStyleModel",
          "state": {
            "_model_module": "@jupyter-widgets/controls",
            "_model_module_version": "1.5.0",
            "_model_name": "ProgressStyleModel",
            "_view_count": null,
            "_view_module": "@jupyter-widgets/base",
            "_view_module_version": "1.2.0",
            "_view_name": "StyleView",
            "bar_color": null,
            "description_width": ""
          }
        },
        "20cc6d10f81d4931b55a20b4f10c8221": {
          "model_module": "@jupyter-widgets/base",
          "model_module_version": "1.2.0",
          "model_name": "LayoutModel",
          "state": {
            "_model_module": "@jupyter-widgets/base",
            "_model_module_version": "1.2.0",
            "_model_name": "LayoutModel",
            "_view_count": null,
            "_view_module": "@jupyter-widgets/base",
            "_view_module_version": "1.2.0",
            "_view_name": "LayoutView",
            "align_content": null,
            "align_items": null,
            "align_self": null,
            "border": null,
            "bottom": null,
            "display": null,
            "flex": null,
            "flex_flow": null,
            "grid_area": null,
            "grid_auto_columns": null,
            "grid_auto_flow": null,
            "grid_auto_rows": null,
            "grid_column": null,
            "grid_gap": null,
            "grid_row": null,
            "grid_template_areas": null,
            "grid_template_columns": null,
            "grid_template_rows": null,
            "height": null,
            "justify_content": null,
            "justify_items": null,
            "left": null,
            "margin": null,
            "max_height": null,
            "max_width": null,
            "min_height": null,
            "min_width": null,
            "object_fit": null,
            "object_position": null,
            "order": null,
            "overflow": null,
            "overflow_x": null,
            "overflow_y": null,
            "padding": null,
            "right": null,
            "top": null,
            "visibility": null,
            "width": null
          }
        },
        "22c59b56c90a4455a27a687293449027": {
          "model_module": "@jupyter-widgets/controls",
          "model_module_version": "1.5.0",
          "model_name": "HBoxModel",
          "state": {
            "_dom_classes": [],
            "_model_module": "@jupyter-widgets/controls",
            "_model_module_version": "1.5.0",
            "_model_name": "HBoxModel",
            "_view_count": null,
            "_view_module": "@jupyter-widgets/controls",
            "_view_module_version": "1.5.0",
            "_view_name": "HBoxView",
            "box_style": "",
            "children": [
              "IPY_MODEL_2317a5df4f8144f7996b5902b7677d14",
              "IPY_MODEL_07394a8ea1cf47f9a22fdf282897f99d",
              "IPY_MODEL_369bcd8897bc472c8cd34440a55edc06"
            ],
            "layout": "IPY_MODEL_9a80206a7261471b874bdcdc7b86b228"
          }
        },
        "2317a5df4f8144f7996b5902b7677d14": {
          "model_module": "@jupyter-widgets/controls",
          "model_module_version": "1.5.0",
          "model_name": "HTMLModel",
          "state": {
            "_dom_classes": [],
            "_model_module": "@jupyter-widgets/controls",
            "_model_module_version": "1.5.0",
            "_model_name": "HTMLModel",
            "_view_count": null,
            "_view_module": "@jupyter-widgets/controls",
            "_view_module_version": "1.5.0",
            "_view_name": "HTMLView",
            "description": "",
            "description_tooltip": null,
            "layout": "IPY_MODEL_a41a24379a0c4dd6be74843d48e2b4e1",
            "placeholder": "​",
            "style": "IPY_MODEL_ceb17b4df41446b0b44a3f2a1acca980",
            "value": "Testing: 100%"
          }
        },
        "2fbcfc53bdc147e3a7bb97dae007f768": {
          "model_module": "@jupyter-widgets/controls",
          "model_module_version": "1.5.0",
          "model_name": "HTMLModel",
          "state": {
            "_dom_classes": [],
            "_model_module": "@jupyter-widgets/controls",
            "_model_module_version": "1.5.0",
            "_model_name": "HTMLModel",
            "_view_count": null,
            "_view_module": "@jupyter-widgets/controls",
            "_view_module_version": "1.5.0",
            "_view_name": "HTMLView",
            "description": "",
            "description_tooltip": null,
            "layout": "IPY_MODEL_c4a78f1521e84fe0bec8f768b231b987",
            "placeholder": "​",
            "style": "IPY_MODEL_f69dca53090446908b3e6d408ee4450c",
            "value": " 1066/1066 [21:56&lt;00:00,  1.06it/s]"
          }
        },
        "369bcd8897bc472c8cd34440a55edc06": {
          "model_module": "@jupyter-widgets/controls",
          "model_module_version": "1.5.0",
          "model_name": "HTMLModel",
          "state": {
            "_dom_classes": [],
            "_model_module": "@jupyter-widgets/controls",
            "_model_module_version": "1.5.0",
            "_model_name": "HTMLModel",
            "_view_count": null,
            "_view_module": "@jupyter-widgets/controls",
            "_view_module_version": "1.5.0",
            "_view_name": "HTMLView",
            "description": "",
            "description_tooltip": null,
            "layout": "IPY_MODEL_59c380632dd74ce4b5a75aeea2d31b16",
            "placeholder": "​",
            "style": "IPY_MODEL_f366461fd9d1467e966750accd2d9acb",
            "value": " 395/395 [07:01&lt;00:00,  1.06it/s]"
          }
        },
        "381673bdda9b4a829ee976ff8c005025": {
          "model_module": "@jupyter-widgets/controls",
          "model_module_version": "1.5.0",
          "model_name": "ProgressStyleModel",
          "state": {
            "_model_module": "@jupyter-widgets/controls",
            "_model_module_version": "1.5.0",
            "_model_name": "ProgressStyleModel",
            "_view_count": null,
            "_view_module": "@jupyter-widgets/base",
            "_view_module_version": "1.2.0",
            "_view_name": "StyleView",
            "bar_color": null,
            "description_width": ""
          }
        },
        "39ea28401de24d4a9b6bab14721845ef": {
          "model_module": "@jupyter-widgets/base",
          "model_module_version": "1.2.0",
          "model_name": "LayoutModel",
          "state": {
            "_model_module": "@jupyter-widgets/base",
            "_model_module_version": "1.2.0",
            "_model_name": "LayoutModel",
            "_view_count": null,
            "_view_module": "@jupyter-widgets/base",
            "_view_module_version": "1.2.0",
            "_view_name": "LayoutView",
            "align_content": null,
            "align_items": null,
            "align_self": null,
            "border": null,
            "bottom": null,
            "display": null,
            "flex": null,
            "flex_flow": null,
            "grid_area": null,
            "grid_auto_columns": null,
            "grid_auto_flow": null,
            "grid_auto_rows": null,
            "grid_column": null,
            "grid_gap": null,
            "grid_row": null,
            "grid_template_areas": null,
            "grid_template_columns": null,
            "grid_template_rows": null,
            "height": null,
            "justify_content": null,
            "justify_items": null,
            "left": null,
            "margin": null,
            "max_height": null,
            "max_width": null,
            "min_height": null,
            "min_width": null,
            "object_fit": null,
            "object_position": null,
            "order": null,
            "overflow": null,
            "overflow_x": null,
            "overflow_y": null,
            "padding": null,
            "right": null,
            "top": null,
            "visibility": null,
            "width": null
          }
        },
        "3b67f04befe141da80e7c9bda07ac40f": {
          "model_module": "@jupyter-widgets/controls",
          "model_module_version": "1.5.0",
          "model_name": "DescriptionStyleModel",
          "state": {
            "_model_module": "@jupyter-widgets/controls",
            "_model_module_version": "1.5.0",
            "_model_name": "DescriptionStyleModel",
            "_view_count": null,
            "_view_module": "@jupyter-widgets/base",
            "_view_module_version": "1.2.0",
            "_view_name": "StyleView",
            "description_width": ""
          }
        },
        "3ff3a8c8aac44c30bcac96d5d7f23a6e": {
          "model_module": "@jupyter-widgets/base",
          "model_module_version": "1.2.0",
          "model_name": "LayoutModel",
          "state": {
            "_model_module": "@jupyter-widgets/base",
            "_model_module_version": "1.2.0",
            "_model_name": "LayoutModel",
            "_view_count": null,
            "_view_module": "@jupyter-widgets/base",
            "_view_module_version": "1.2.0",
            "_view_name": "LayoutView",
            "align_content": null,
            "align_items": null,
            "align_self": null,
            "border": null,
            "bottom": null,
            "display": null,
            "flex": null,
            "flex_flow": null,
            "grid_area": null,
            "grid_auto_columns": null,
            "grid_auto_flow": null,
            "grid_auto_rows": null,
            "grid_column": null,
            "grid_gap": null,
            "grid_row": null,
            "grid_template_areas": null,
            "grid_template_columns": null,
            "grid_template_rows": null,
            "height": null,
            "justify_content": null,
            "justify_items": null,
            "left": null,
            "margin": null,
            "max_height": null,
            "max_width": null,
            "min_height": null,
            "min_width": null,
            "object_fit": null,
            "object_position": null,
            "order": null,
            "overflow": null,
            "overflow_x": null,
            "overflow_y": null,
            "padding": null,
            "right": null,
            "top": null,
            "visibility": null,
            "width": null
          }
        },
        "406fbb393f60424182cc3e957631bcce": {
          "model_module": "@jupyter-widgets/base",
          "model_module_version": "1.2.0",
          "model_name": "LayoutModel",
          "state": {
            "_model_module": "@jupyter-widgets/base",
            "_model_module_version": "1.2.0",
            "_model_name": "LayoutModel",
            "_view_count": null,
            "_view_module": "@jupyter-widgets/base",
            "_view_module_version": "1.2.0",
            "_view_name": "LayoutView",
            "align_content": null,
            "align_items": null,
            "align_self": null,
            "border": null,
            "bottom": null,
            "display": null,
            "flex": null,
            "flex_flow": null,
            "grid_area": null,
            "grid_auto_columns": null,
            "grid_auto_flow": null,
            "grid_auto_rows": null,
            "grid_column": null,
            "grid_gap": null,
            "grid_row": null,
            "grid_template_areas": null,
            "grid_template_columns": null,
            "grid_template_rows": null,
            "height": null,
            "justify_content": null,
            "justify_items": null,
            "left": null,
            "margin": null,
            "max_height": null,
            "max_width": null,
            "min_height": null,
            "min_width": null,
            "object_fit": null,
            "object_position": null,
            "order": null,
            "overflow": null,
            "overflow_x": null,
            "overflow_y": null,
            "padding": null,
            "right": null,
            "top": null,
            "visibility": null,
            "width": null
          }
        },
        "48e488c6ce3b46eea9f43ff063162b5d": {
          "model_module": "@jupyter-widgets/controls",
          "model_module_version": "1.5.0",
          "model_name": "FloatProgressModel",
          "state": {
            "_dom_classes": [],
            "_model_module": "@jupyter-widgets/controls",
            "_model_module_version": "1.5.0",
            "_model_name": "FloatProgressModel",
            "_view_count": null,
            "_view_module": "@jupyter-widgets/controls",
            "_view_module_version": "1.5.0",
            "_view_name": "ProgressView",
            "bar_style": "success",
            "description": "",
            "description_tooltip": null,
            "layout": "IPY_MODEL_39ea28401de24d4a9b6bab14721845ef",
            "max": 2,
            "min": 0,
            "orientation": "horizontal",
            "style": "IPY_MODEL_aa28462c70de46efba022ce0a0dc9553",
            "value": 2
          }
        },
        "4a7ded665d7f4896817a96f9a30a26f9": {
          "model_module": "@jupyter-widgets/controls",
          "model_module_version": "1.5.0",
          "model_name": "DescriptionStyleModel",
          "state": {
            "_model_module": "@jupyter-widgets/controls",
            "_model_module_version": "1.5.0",
            "_model_name": "DescriptionStyleModel",
            "_view_count": null,
            "_view_module": "@jupyter-widgets/base",
            "_view_module_version": "1.2.0",
            "_view_name": "StyleView",
            "description_width": ""
          }
        },
        "4f39379d94fb44d0b15496b3f8aa3ceb": {
          "model_module": "@jupyter-widgets/base",
          "model_module_version": "1.2.0",
          "model_name": "LayoutModel",
          "state": {
            "_model_module": "@jupyter-widgets/base",
            "_model_module_version": "1.2.0",
            "_model_name": "LayoutModel",
            "_view_count": null,
            "_view_module": "@jupyter-widgets/base",
            "_view_module_version": "1.2.0",
            "_view_name": "LayoutView",
            "align_content": null,
            "align_items": null,
            "align_self": null,
            "border": null,
            "bottom": null,
            "display": null,
            "flex": null,
            "flex_flow": null,
            "grid_area": null,
            "grid_auto_columns": null,
            "grid_auto_flow": null,
            "grid_auto_rows": null,
            "grid_column": null,
            "grid_gap": null,
            "grid_row": null,
            "grid_template_areas": null,
            "grid_template_columns": null,
            "grid_template_rows": null,
            "height": null,
            "justify_content": null,
            "justify_items": null,
            "left": null,
            "margin": null,
            "max_height": null,
            "max_width": null,
            "min_height": null,
            "min_width": null,
            "object_fit": null,
            "object_position": null,
            "order": null,
            "overflow": null,
            "overflow_x": null,
            "overflow_y": null,
            "padding": null,
            "right": null,
            "top": null,
            "visibility": null,
            "width": null
          }
        },
        "567481495d624b4c814c554320c0bcda": {
          "model_module": "@jupyter-widgets/controls",
          "model_module_version": "1.5.0",
          "model_name": "DescriptionStyleModel",
          "state": {
            "_model_module": "@jupyter-widgets/controls",
            "_model_module_version": "1.5.0",
            "_model_name": "DescriptionStyleModel",
            "_view_count": null,
            "_view_module": "@jupyter-widgets/base",
            "_view_module_version": "1.2.0",
            "_view_name": "StyleView",
            "description_width": ""
          }
        },
        "59c380632dd74ce4b5a75aeea2d31b16": {
          "model_module": "@jupyter-widgets/base",
          "model_module_version": "1.2.0",
          "model_name": "LayoutModel",
          "state": {
            "_model_module": "@jupyter-widgets/base",
            "_model_module_version": "1.2.0",
            "_model_name": "LayoutModel",
            "_view_count": null,
            "_view_module": "@jupyter-widgets/base",
            "_view_module_version": "1.2.0",
            "_view_name": "LayoutView",
            "align_content": null,
            "align_items": null,
            "align_self": null,
            "border": null,
            "bottom": null,
            "display": null,
            "flex": null,
            "flex_flow": null,
            "grid_area": null,
            "grid_auto_columns": null,
            "grid_auto_flow": null,
            "grid_auto_rows": null,
            "grid_column": null,
            "grid_gap": null,
            "grid_row": null,
            "grid_template_areas": null,
            "grid_template_columns": null,
            "grid_template_rows": null,
            "height": null,
            "justify_content": null,
            "justify_items": null,
            "left": null,
            "margin": null,
            "max_height": null,
            "max_width": null,
            "min_height": null,
            "min_width": null,
            "object_fit": null,
            "object_position": null,
            "order": null,
            "overflow": null,
            "overflow_x": null,
            "overflow_y": null,
            "padding": null,
            "right": null,
            "top": null,
            "visibility": null,
            "width": null
          }
        },
        "5a153d864e85462bb129843da945fa81": {
          "model_module": "@jupyter-widgets/controls",
          "model_module_version": "1.5.0",
          "model_name": "DescriptionStyleModel",
          "state": {
            "_model_module": "@jupyter-widgets/controls",
            "_model_module_version": "1.5.0",
            "_model_name": "DescriptionStyleModel",
            "_view_count": null,
            "_view_module": "@jupyter-widgets/base",
            "_view_module_version": "1.2.0",
            "_view_name": "StyleView",
            "description_width": ""
          }
        },
        "5a3cb31b904f4833afc2f535c51e8400": {
          "model_module": "@jupyter-widgets/controls",
          "model_module_version": "1.5.0",
          "model_name": "ProgressStyleModel",
          "state": {
            "_model_module": "@jupyter-widgets/controls",
            "_model_module_version": "1.5.0",
            "_model_name": "ProgressStyleModel",
            "_view_count": null,
            "_view_module": "@jupyter-widgets/base",
            "_view_module_version": "1.2.0",
            "_view_name": "StyleView",
            "bar_color": null,
            "description_width": ""
          }
        },
        "647cc9f594f14e95b4c0746439b84f1a": {
          "model_module": "@jupyter-widgets/controls",
          "model_module_version": "1.5.0",
          "model_name": "DescriptionStyleModel",
          "state": {
            "_model_module": "@jupyter-widgets/controls",
            "_model_module_version": "1.5.0",
            "_model_name": "DescriptionStyleModel",
            "_view_count": null,
            "_view_module": "@jupyter-widgets/base",
            "_view_module_version": "1.2.0",
            "_view_name": "StyleView",
            "description_width": ""
          }
        },
        "672b246bf4cf44a0b1cdcc989eb2004f": {
          "model_module": "@jupyter-widgets/controls",
          "model_module_version": "1.5.0",
          "model_name": "HBoxModel",
          "state": {
            "_dom_classes": [],
            "_model_module": "@jupyter-widgets/controls",
            "_model_module_version": "1.5.0",
            "_model_name": "HBoxModel",
            "_view_count": null,
            "_view_module": "@jupyter-widgets/controls",
            "_view_module_version": "1.5.0",
            "_view_name": "HBoxView",
            "box_style": "",
            "children": [
              "IPY_MODEL_941fc6c459bf4b31bab43950801c8af1",
              "IPY_MODEL_e7d5468bc1934d5c97b172a24e48faa3",
              "IPY_MODEL_2fbcfc53bdc147e3a7bb97dae007f768"
            ],
            "layout": "IPY_MODEL_0b15af656a8e47d187f5c0f879d05f92"
          }
        },
        "686499dcfa4a472f864fd5df52d4b50e": {
          "model_module": "@jupyter-widgets/controls",
          "model_module_version": "1.5.0",
          "model_name": "FloatProgressModel",
          "state": {
            "_dom_classes": [],
            "_model_module": "@jupyter-widgets/controls",
            "_model_module_version": "1.5.0",
            "_model_name": "FloatProgressModel",
            "_view_count": null,
            "_view_module": "@jupyter-widgets/controls",
            "_view_module_version": "1.5.0",
            "_view_name": "ProgressView",
            "bar_style": "success",
            "description": "",
            "description_tooltip": null,
            "layout": "IPY_MODEL_ce1624835f4c424b8b12445dd409d620",
            "max": 119,
            "min": 0,
            "orientation": "horizontal",
            "style": "IPY_MODEL_18582bdffc424c5aac18ac2c9b001f2a",
            "value": 119
          }
        },
        "68dbfe926f574c2aa03e712231fa8eea": {
          "model_module": "@jupyter-widgets/base",
          "model_module_version": "1.2.0",
          "model_name": "LayoutModel",
          "state": {
            "_model_module": "@jupyter-widgets/base",
            "_model_module_version": "1.2.0",
            "_model_name": "LayoutModel",
            "_view_count": null,
            "_view_module": "@jupyter-widgets/base",
            "_view_module_version": "1.2.0",
            "_view_name": "LayoutView",
            "align_content": null,
            "align_items": null,
            "align_self": null,
            "border": null,
            "bottom": null,
            "display": null,
            "flex": null,
            "flex_flow": null,
            "grid_area": null,
            "grid_auto_columns": null,
            "grid_auto_flow": null,
            "grid_auto_rows": null,
            "grid_column": null,
            "grid_gap": null,
            "grid_row": null,
            "grid_template_areas": null,
            "grid_template_columns": null,
            "grid_template_rows": null,
            "height": null,
            "justify_content": null,
            "justify_items": null,
            "left": null,
            "margin": null,
            "max_height": null,
            "max_width": null,
            "min_height": null,
            "min_width": null,
            "object_fit": null,
            "object_position": null,
            "order": null,
            "overflow": null,
            "overflow_x": null,
            "overflow_y": null,
            "padding": null,
            "right": null,
            "top": null,
            "visibility": null,
            "width": null
          }
        },
        "6a01f83ca1f54481b1beab98d5512fe9": {
          "model_module": "@jupyter-widgets/base",
          "model_module_version": "1.2.0",
          "model_name": "LayoutModel",
          "state": {
            "_model_module": "@jupyter-widgets/base",
            "_model_module_version": "1.2.0",
            "_model_name": "LayoutModel",
            "_view_count": null,
            "_view_module": "@jupyter-widgets/base",
            "_view_module_version": "1.2.0",
            "_view_name": "LayoutView",
            "align_content": null,
            "align_items": null,
            "align_self": null,
            "border": null,
            "bottom": null,
            "display": null,
            "flex": null,
            "flex_flow": null,
            "grid_area": null,
            "grid_auto_columns": null,
            "grid_auto_flow": null,
            "grid_auto_rows": null,
            "grid_column": null,
            "grid_gap": null,
            "grid_row": null,
            "grid_template_areas": null,
            "grid_template_columns": null,
            "grid_template_rows": null,
            "height": null,
            "justify_content": null,
            "justify_items": null,
            "left": null,
            "margin": null,
            "max_height": null,
            "max_width": null,
            "min_height": null,
            "min_width": null,
            "object_fit": null,
            "object_position": null,
            "order": null,
            "overflow": null,
            "overflow_x": null,
            "overflow_y": null,
            "padding": null,
            "right": null,
            "top": null,
            "visibility": null,
            "width": null
          }
        },
        "6b1f4adff6a64cd08947c3f785040f34": {
          "model_module": "@jupyter-widgets/base",
          "model_module_version": "1.2.0",
          "model_name": "LayoutModel",
          "state": {
            "_model_module": "@jupyter-widgets/base",
            "_model_module_version": "1.2.0",
            "_model_name": "LayoutModel",
            "_view_count": null,
            "_view_module": "@jupyter-widgets/base",
            "_view_module_version": "1.2.0",
            "_view_name": "LayoutView",
            "align_content": null,
            "align_items": null,
            "align_self": null,
            "border": null,
            "bottom": null,
            "display": null,
            "flex": null,
            "flex_flow": null,
            "grid_area": null,
            "grid_auto_columns": null,
            "grid_auto_flow": null,
            "grid_auto_rows": null,
            "grid_column": null,
            "grid_gap": null,
            "grid_row": null,
            "grid_template_areas": null,
            "grid_template_columns": null,
            "grid_template_rows": null,
            "height": null,
            "justify_content": null,
            "justify_items": null,
            "left": null,
            "margin": null,
            "max_height": null,
            "max_width": null,
            "min_height": null,
            "min_width": null,
            "object_fit": null,
            "object_position": null,
            "order": null,
            "overflow": null,
            "overflow_x": null,
            "overflow_y": null,
            "padding": null,
            "right": null,
            "top": null,
            "visibility": null,
            "width": null
          }
        },
        "6ffcdff99c1b41619fa517a4473c31d8": {
          "model_module": "@jupyter-widgets/base",
          "model_module_version": "1.2.0",
          "model_name": "LayoutModel",
          "state": {
            "_model_module": "@jupyter-widgets/base",
            "_model_module_version": "1.2.0",
            "_model_name": "LayoutModel",
            "_view_count": null,
            "_view_module": "@jupyter-widgets/base",
            "_view_module_version": "1.2.0",
            "_view_name": "LayoutView",
            "align_content": null,
            "align_items": null,
            "align_self": null,
            "border": null,
            "bottom": null,
            "display": null,
            "flex": null,
            "flex_flow": null,
            "grid_area": null,
            "grid_auto_columns": null,
            "grid_auto_flow": null,
            "grid_auto_rows": null,
            "grid_column": null,
            "grid_gap": null,
            "grid_row": null,
            "grid_template_areas": null,
            "grid_template_columns": null,
            "grid_template_rows": null,
            "height": null,
            "justify_content": null,
            "justify_items": null,
            "left": null,
            "margin": null,
            "max_height": null,
            "max_width": null,
            "min_height": null,
            "min_width": null,
            "object_fit": null,
            "object_position": null,
            "order": null,
            "overflow": null,
            "overflow_x": null,
            "overflow_y": null,
            "padding": null,
            "right": null,
            "top": null,
            "visibility": null,
            "width": null
          }
        },
        "72723fb6eb29494d9e0cfa0e8b6442dd": {
          "model_module": "@jupyter-widgets/controls",
          "model_module_version": "1.5.0",
          "model_name": "DescriptionStyleModel",
          "state": {
            "_model_module": "@jupyter-widgets/controls",
            "_model_module_version": "1.5.0",
            "_model_name": "DescriptionStyleModel",
            "_view_count": null,
            "_view_module": "@jupyter-widgets/base",
            "_view_module_version": "1.2.0",
            "_view_name": "StyleView",
            "description_width": ""
          }
        },
        "774f4cc89423469a8306ff3b8b50bbc5": {
          "model_module": "@jupyter-widgets/base",
          "model_module_version": "1.2.0",
          "model_name": "LayoutModel",
          "state": {
            "_model_module": "@jupyter-widgets/base",
            "_model_module_version": "1.2.0",
            "_model_name": "LayoutModel",
            "_view_count": null,
            "_view_module": "@jupyter-widgets/base",
            "_view_module_version": "1.2.0",
            "_view_name": "LayoutView",
            "align_content": null,
            "align_items": null,
            "align_self": null,
            "border": null,
            "bottom": null,
            "display": null,
            "flex": null,
            "flex_flow": null,
            "grid_area": null,
            "grid_auto_columns": null,
            "grid_auto_flow": null,
            "grid_auto_rows": null,
            "grid_column": null,
            "grid_gap": null,
            "grid_row": null,
            "grid_template_areas": null,
            "grid_template_columns": null,
            "grid_template_rows": null,
            "height": null,
            "justify_content": null,
            "justify_items": null,
            "left": null,
            "margin": null,
            "max_height": null,
            "max_width": null,
            "min_height": null,
            "min_width": null,
            "object_fit": null,
            "object_position": null,
            "order": null,
            "overflow": null,
            "overflow_x": null,
            "overflow_y": null,
            "padding": null,
            "right": null,
            "top": null,
            "visibility": null,
            "width": null
          }
        },
        "8b1975a903ae4cf3aa8978414b3ae1e7": {
          "model_module": "@jupyter-widgets/controls",
          "model_module_version": "1.5.0",
          "model_name": "HTMLModel",
          "state": {
            "_dom_classes": [],
            "_model_module": "@jupyter-widgets/controls",
            "_model_module_version": "1.5.0",
            "_model_name": "HTMLModel",
            "_view_count": null,
            "_view_module": "@jupyter-widgets/controls",
            "_view_module_version": "1.5.0",
            "_view_name": "HTMLView",
            "description": "",
            "description_tooltip": null,
            "layout": "IPY_MODEL_4f39379d94fb44d0b15496b3f8aa3ceb",
            "placeholder": "​",
            "style": "IPY_MODEL_f702625c9b1742ac825cb7496e38a56d",
            "value": "Training: 100%"
          }
        },
        "941fc6c459bf4b31bab43950801c8af1": {
          "model_module": "@jupyter-widgets/controls",
          "model_module_version": "1.5.0",
          "model_name": "HTMLModel",
          "state": {
            "_dom_classes": [],
            "_model_module": "@jupyter-widgets/controls",
            "_model_module_version": "1.5.0",
            "_model_name": "HTMLModel",
            "_view_count": null,
            "_view_module": "@jupyter-widgets/controls",
            "_view_module_version": "1.5.0",
            "_view_name": "HTMLView",
            "description": "",
            "description_tooltip": null,
            "layout": "IPY_MODEL_774f4cc89423469a8306ff3b8b50bbc5",
            "placeholder": "​",
            "style": "IPY_MODEL_dbeb6d5d09fc45b8bb9f64d8a8b00e7c",
            "value": "Training: 100%"
          }
        },
        "97a970d3acca4eb49d7f24dbcac82000": {
          "model_module": "@jupyter-widgets/controls",
          "model_module_version": "1.5.0",
          "model_name": "HTMLModel",
          "state": {
            "_dom_classes": [],
            "_model_module": "@jupyter-widgets/controls",
            "_model_module_version": "1.5.0",
            "_model_name": "HTMLModel",
            "_view_count": null,
            "_view_module": "@jupyter-widgets/controls",
            "_view_module_version": "1.5.0",
            "_view_name": "HTMLView",
            "description": "",
            "description_tooltip": null,
            "layout": "IPY_MODEL_ed8fa5b48922415b9258f191593c6c83",
            "placeholder": "​",
            "style": "IPY_MODEL_647cc9f594f14e95b4c0746439b84f1a",
            "value": "Testing: 100%"
          }
        },
        "9a80206a7261471b874bdcdc7b86b228": {
          "model_module": "@jupyter-widgets/base",
          "model_module_version": "1.2.0",
          "model_name": "LayoutModel",
          "state": {
            "_model_module": "@jupyter-widgets/base",
            "_model_module_version": "1.2.0",
            "_model_name": "LayoutModel",
            "_view_count": null,
            "_view_module": "@jupyter-widgets/base",
            "_view_module_version": "1.2.0",
            "_view_name": "LayoutView",
            "align_content": null,
            "align_items": null,
            "align_self": null,
            "border": null,
            "bottom": null,
            "display": null,
            "flex": null,
            "flex_flow": null,
            "grid_area": null,
            "grid_auto_columns": null,
            "grid_auto_flow": null,
            "grid_auto_rows": null,
            "grid_column": null,
            "grid_gap": null,
            "grid_row": null,
            "grid_template_areas": null,
            "grid_template_columns": null,
            "grid_template_rows": null,
            "height": null,
            "justify_content": null,
            "justify_items": null,
            "left": null,
            "margin": null,
            "max_height": null,
            "max_width": null,
            "min_height": null,
            "min_width": null,
            "object_fit": null,
            "object_position": null,
            "order": null,
            "overflow": null,
            "overflow_x": null,
            "overflow_y": null,
            "padding": null,
            "right": null,
            "top": null,
            "visibility": null,
            "width": null
          }
        },
        "9ff640e5f3074243bacfcc65f711a6e1": {
          "model_module": "@jupyter-widgets/controls",
          "model_module_version": "1.5.0",
          "model_name": "HTMLModel",
          "state": {
            "_dom_classes": [],
            "_model_module": "@jupyter-widgets/controls",
            "_model_module_version": "1.5.0",
            "_model_name": "HTMLModel",
            "_view_count": null,
            "_view_module": "@jupyter-widgets/controls",
            "_view_module_version": "1.5.0",
            "_view_name": "HTMLView",
            "description": "",
            "description_tooltip": null,
            "layout": "IPY_MODEL_3ff3a8c8aac44c30bcac96d5d7f23a6e",
            "placeholder": "​",
            "style": "IPY_MODEL_567481495d624b4c814c554320c0bcda",
            "value": " 2/2 [48:01&lt;00:00, 1438.90s/it]"
          }
        },
        "a25ec04034724cc9b730f966f9680d83": {
          "model_module": "@jupyter-widgets/base",
          "model_module_version": "1.2.0",
          "model_name": "LayoutModel",
          "state": {
            "_model_module": "@jupyter-widgets/base",
            "_model_module_version": "1.2.0",
            "_model_name": "LayoutModel",
            "_view_count": null,
            "_view_module": "@jupyter-widgets/base",
            "_view_module_version": "1.2.0",
            "_view_name": "LayoutView",
            "align_content": null,
            "align_items": null,
            "align_self": null,
            "border": null,
            "bottom": null,
            "display": null,
            "flex": null,
            "flex_flow": null,
            "grid_area": null,
            "grid_auto_columns": null,
            "grid_auto_flow": null,
            "grid_auto_rows": null,
            "grid_column": null,
            "grid_gap": null,
            "grid_row": null,
            "grid_template_areas": null,
            "grid_template_columns": null,
            "grid_template_rows": null,
            "height": null,
            "justify_content": null,
            "justify_items": null,
            "left": null,
            "margin": null,
            "max_height": null,
            "max_width": null,
            "min_height": null,
            "min_width": null,
            "object_fit": null,
            "object_position": null,
            "order": null,
            "overflow": null,
            "overflow_x": null,
            "overflow_y": null,
            "padding": null,
            "right": null,
            "top": null,
            "visibility": null,
            "width": null
          }
        },
        "a41a24379a0c4dd6be74843d48e2b4e1": {
          "model_module": "@jupyter-widgets/base",
          "model_module_version": "1.2.0",
          "model_name": "LayoutModel",
          "state": {
            "_model_module": "@jupyter-widgets/base",
            "_model_module_version": "1.2.0",
            "_model_name": "LayoutModel",
            "_view_count": null,
            "_view_module": "@jupyter-widgets/base",
            "_view_module_version": "1.2.0",
            "_view_name": "LayoutView",
            "align_content": null,
            "align_items": null,
            "align_self": null,
            "border": null,
            "bottom": null,
            "display": null,
            "flex": null,
            "flex_flow": null,
            "grid_area": null,
            "grid_auto_columns": null,
            "grid_auto_flow": null,
            "grid_auto_rows": null,
            "grid_column": null,
            "grid_gap": null,
            "grid_row": null,
            "grid_template_areas": null,
            "grid_template_columns": null,
            "grid_template_rows": null,
            "height": null,
            "justify_content": null,
            "justify_items": null,
            "left": null,
            "margin": null,
            "max_height": null,
            "max_width": null,
            "min_height": null,
            "min_width": null,
            "object_fit": null,
            "object_position": null,
            "order": null,
            "overflow": null,
            "overflow_x": null,
            "overflow_y": null,
            "padding": null,
            "right": null,
            "top": null,
            "visibility": null,
            "width": null
          }
        },
        "a427c7911aea4d39b45200ad1868ab90": {
          "model_module": "@jupyter-widgets/base",
          "model_module_version": "1.2.0",
          "model_name": "LayoutModel",
          "state": {
            "_model_module": "@jupyter-widgets/base",
            "_model_module_version": "1.2.0",
            "_model_name": "LayoutModel",
            "_view_count": null,
            "_view_module": "@jupyter-widgets/base",
            "_view_module_version": "1.2.0",
            "_view_name": "LayoutView",
            "align_content": null,
            "align_items": null,
            "align_self": null,
            "border": null,
            "bottom": null,
            "display": null,
            "flex": null,
            "flex_flow": null,
            "grid_area": null,
            "grid_auto_columns": null,
            "grid_auto_flow": null,
            "grid_auto_rows": null,
            "grid_column": null,
            "grid_gap": null,
            "grid_row": null,
            "grid_template_areas": null,
            "grid_template_columns": null,
            "grid_template_rows": null,
            "height": null,
            "justify_content": null,
            "justify_items": null,
            "left": null,
            "margin": null,
            "max_height": null,
            "max_width": null,
            "min_height": null,
            "min_width": null,
            "object_fit": null,
            "object_position": null,
            "order": null,
            "overflow": null,
            "overflow_x": null,
            "overflow_y": null,
            "padding": null,
            "right": null,
            "top": null,
            "visibility": null,
            "width": null
          }
        },
        "a58593b9945a404ebc5c0b2b0c259762": {
          "model_module": "@jupyter-widgets/controls",
          "model_module_version": "1.5.0",
          "model_name": "HTMLModel",
          "state": {
            "_dom_classes": [],
            "_model_module": "@jupyter-widgets/controls",
            "_model_module_version": "1.5.0",
            "_model_name": "HTMLModel",
            "_view_count": null,
            "_view_module": "@jupyter-widgets/controls",
            "_view_module_version": "1.5.0",
            "_view_name": "HTMLView",
            "description": "",
            "description_tooltip": null,
            "layout": "IPY_MODEL_6ffcdff99c1b41619fa517a4473c31d8",
            "placeholder": "​",
            "style": "IPY_MODEL_d11786d36d17470f8d5f3a2e93f516d1",
            "value": " 119/119 [02:03&lt;00:00,  1.18it/s]"
          }
        },
        "a9250be421c64b85ad44b1cd25a2398c": {
          "model_module": "@jupyter-widgets/controls",
          "model_module_version": "1.5.0",
          "model_name": "HBoxModel",
          "state": {
            "_dom_classes": [],
            "_model_module": "@jupyter-widgets/controls",
            "_model_module_version": "1.5.0",
            "_model_name": "HBoxModel",
            "_view_count": null,
            "_view_module": "@jupyter-widgets/controls",
            "_view_module_version": "1.5.0",
            "_view_name": "HBoxView",
            "box_style": "",
            "children": [
              "IPY_MODEL_97a970d3acca4eb49d7f24dbcac82000",
              "IPY_MODEL_e40339fd74f843b89926677751f6f104",
              "IPY_MODEL_a58593b9945a404ebc5c0b2b0c259762"
            ],
            "layout": "IPY_MODEL_406fbb393f60424182cc3e957631bcce"
          }
        },
        "aa28462c70de46efba022ce0a0dc9553": {
          "model_module": "@jupyter-widgets/controls",
          "model_module_version": "1.5.0",
          "model_name": "ProgressStyleModel",
          "state": {
            "_model_module": "@jupyter-widgets/controls",
            "_model_module_version": "1.5.0",
            "_model_name": "ProgressStyleModel",
            "_view_count": null,
            "_view_module": "@jupyter-widgets/base",
            "_view_module_version": "1.2.0",
            "_view_name": "StyleView",
            "bar_color": null,
            "description_width": ""
          }
        },
        "abdd8f93760b440bae7b007259b9bf43": {
          "model_module": "@jupyter-widgets/base",
          "model_module_version": "1.2.0",
          "model_name": "LayoutModel",
          "state": {
            "_model_module": "@jupyter-widgets/base",
            "_model_module_version": "1.2.0",
            "_model_name": "LayoutModel",
            "_view_count": null,
            "_view_module": "@jupyter-widgets/base",
            "_view_module_version": "1.2.0",
            "_view_name": "LayoutView",
            "align_content": null,
            "align_items": null,
            "align_self": null,
            "border": null,
            "bottom": null,
            "display": null,
            "flex": null,
            "flex_flow": null,
            "grid_area": null,
            "grid_auto_columns": null,
            "grid_auto_flow": null,
            "grid_auto_rows": null,
            "grid_column": null,
            "grid_gap": null,
            "grid_row": null,
            "grid_template_areas": null,
            "grid_template_columns": null,
            "grid_template_rows": null,
            "height": null,
            "justify_content": null,
            "justify_items": null,
            "left": null,
            "margin": null,
            "max_height": null,
            "max_width": null,
            "min_height": null,
            "min_width": null,
            "object_fit": null,
            "object_position": null,
            "order": null,
            "overflow": null,
            "overflow_x": null,
            "overflow_y": null,
            "padding": null,
            "right": null,
            "top": null,
            "visibility": null,
            "width": null
          }
        },
        "bb24c2cb0d6349268f6a76d6108fc930": {
          "model_module": "@jupyter-widgets/base",
          "model_module_version": "1.2.0",
          "model_name": "LayoutModel",
          "state": {
            "_model_module": "@jupyter-widgets/base",
            "_model_module_version": "1.2.0",
            "_model_name": "LayoutModel",
            "_view_count": null,
            "_view_module": "@jupyter-widgets/base",
            "_view_module_version": "1.2.0",
            "_view_name": "LayoutView",
            "align_content": null,
            "align_items": null,
            "align_self": null,
            "border": null,
            "bottom": null,
            "display": null,
            "flex": null,
            "flex_flow": null,
            "grid_area": null,
            "grid_auto_columns": null,
            "grid_auto_flow": null,
            "grid_auto_rows": null,
            "grid_column": null,
            "grid_gap": null,
            "grid_row": null,
            "grid_template_areas": null,
            "grid_template_columns": null,
            "grid_template_rows": null,
            "height": null,
            "justify_content": null,
            "justify_items": null,
            "left": null,
            "margin": null,
            "max_height": null,
            "max_width": null,
            "min_height": null,
            "min_width": null,
            "object_fit": null,
            "object_position": null,
            "order": null,
            "overflow": null,
            "overflow_x": null,
            "overflow_y": null,
            "padding": null,
            "right": null,
            "top": null,
            "visibility": null,
            "width": null
          }
        },
        "c4a78f1521e84fe0bec8f768b231b987": {
          "model_module": "@jupyter-widgets/base",
          "model_module_version": "1.2.0",
          "model_name": "LayoutModel",
          "state": {
            "_model_module": "@jupyter-widgets/base",
            "_model_module_version": "1.2.0",
            "_model_name": "LayoutModel",
            "_view_count": null,
            "_view_module": "@jupyter-widgets/base",
            "_view_module_version": "1.2.0",
            "_view_name": "LayoutView",
            "align_content": null,
            "align_items": null,
            "align_self": null,
            "border": null,
            "bottom": null,
            "display": null,
            "flex": null,
            "flex_flow": null,
            "grid_area": null,
            "grid_auto_columns": null,
            "grid_auto_flow": null,
            "grid_auto_rows": null,
            "grid_column": null,
            "grid_gap": null,
            "grid_row": null,
            "grid_template_areas": null,
            "grid_template_columns": null,
            "grid_template_rows": null,
            "height": null,
            "justify_content": null,
            "justify_items": null,
            "left": null,
            "margin": null,
            "max_height": null,
            "max_width": null,
            "min_height": null,
            "min_width": null,
            "object_fit": null,
            "object_position": null,
            "order": null,
            "overflow": null,
            "overflow_x": null,
            "overflow_y": null,
            "padding": null,
            "right": null,
            "top": null,
            "visibility": null,
            "width": null
          }
        },
        "c58bb67795ef43699546f23dea6612e7": {
          "model_module": "@jupyter-widgets/controls",
          "model_module_version": "1.5.0",
          "model_name": "FloatProgressModel",
          "state": {
            "_dom_classes": [],
            "_model_module": "@jupyter-widgets/controls",
            "_model_module_version": "1.5.0",
            "_model_name": "FloatProgressModel",
            "_view_count": null,
            "_view_module": "@jupyter-widgets/controls",
            "_view_module_version": "1.5.0",
            "_view_name": "ProgressView",
            "bar_style": "success",
            "description": "",
            "description_tooltip": null,
            "layout": "IPY_MODEL_6b1f4adff6a64cd08947c3f785040f34",
            "max": 1066,
            "min": 0,
            "orientation": "horizontal",
            "style": "IPY_MODEL_5a3cb31b904f4833afc2f535c51e8400",
            "value": 1066
          }
        },
        "ce1624835f4c424b8b12445dd409d620": {
          "model_module": "@jupyter-widgets/base",
          "model_module_version": "1.2.0",
          "model_name": "LayoutModel",
          "state": {
            "_model_module": "@jupyter-widgets/base",
            "_model_module_version": "1.2.0",
            "_model_name": "LayoutModel",
            "_view_count": null,
            "_view_module": "@jupyter-widgets/base",
            "_view_module_version": "1.2.0",
            "_view_name": "LayoutView",
            "align_content": null,
            "align_items": null,
            "align_self": null,
            "border": null,
            "bottom": null,
            "display": null,
            "flex": null,
            "flex_flow": null,
            "grid_area": null,
            "grid_auto_columns": null,
            "grid_auto_flow": null,
            "grid_auto_rows": null,
            "grid_column": null,
            "grid_gap": null,
            "grid_row": null,
            "grid_template_areas": null,
            "grid_template_columns": null,
            "grid_template_rows": null,
            "height": null,
            "justify_content": null,
            "justify_items": null,
            "left": null,
            "margin": null,
            "max_height": null,
            "max_width": null,
            "min_height": null,
            "min_width": null,
            "object_fit": null,
            "object_position": null,
            "order": null,
            "overflow": null,
            "overflow_x": null,
            "overflow_y": null,
            "padding": null,
            "right": null,
            "top": null,
            "visibility": null,
            "width": null
          }
        },
        "ceb17b4df41446b0b44a3f2a1acca980": {
          "model_module": "@jupyter-widgets/controls",
          "model_module_version": "1.5.0",
          "model_name": "DescriptionStyleModel",
          "state": {
            "_model_module": "@jupyter-widgets/controls",
            "_model_module_version": "1.5.0",
            "_model_name": "DescriptionStyleModel",
            "_view_count": null,
            "_view_module": "@jupyter-widgets/base",
            "_view_module_version": "1.2.0",
            "_view_name": "StyleView",
            "description_width": ""
          }
        },
        "d11786d36d17470f8d5f3a2e93f516d1": {
          "model_module": "@jupyter-widgets/controls",
          "model_module_version": "1.5.0",
          "model_name": "DescriptionStyleModel",
          "state": {
            "_model_module": "@jupyter-widgets/controls",
            "_model_module_version": "1.5.0",
            "_model_name": "DescriptionStyleModel",
            "_view_count": null,
            "_view_module": "@jupyter-widgets/base",
            "_view_module_version": "1.2.0",
            "_view_name": "StyleView",
            "description_width": ""
          }
        },
        "d2524d14949d4ea6bc1115ad0e4fc198": {
          "model_module": "@jupyter-widgets/controls",
          "model_module_version": "1.5.0",
          "model_name": "ProgressStyleModel",
          "state": {
            "_model_module": "@jupyter-widgets/controls",
            "_model_module_version": "1.5.0",
            "_model_name": "ProgressStyleModel",
            "_view_count": null,
            "_view_module": "@jupyter-widgets/base",
            "_view_module_version": "1.2.0",
            "_view_name": "StyleView",
            "bar_color": null,
            "description_width": ""
          }
        },
        "d6647337894d47058ea26f3a659e121b": {
          "model_module": "@jupyter-widgets/controls",
          "model_module_version": "1.5.0",
          "model_name": "HTMLModel",
          "state": {
            "_dom_classes": [],
            "_model_module": "@jupyter-widgets/controls",
            "_model_module_version": "1.5.0",
            "_model_name": "HTMLModel",
            "_view_count": null,
            "_view_module": "@jupyter-widgets/controls",
            "_view_module_version": "1.5.0",
            "_view_name": "HTMLView",
            "description": "",
            "description_tooltip": null,
            "layout": "IPY_MODEL_04f3f7275b604d47a9e0948e2536c43b",
            "placeholder": "​",
            "style": "IPY_MODEL_4a7ded665d7f4896817a96f9a30a26f9",
            "value": "Epochs: 100%"
          }
        },
        "d956d517b49647aba0063b8dc4de7fc8": {
          "model_module": "@jupyter-widgets/controls",
          "model_module_version": "1.5.0",
          "model_name": "HTMLModel",
          "state": {
            "_dom_classes": [],
            "_model_module": "@jupyter-widgets/controls",
            "_model_module_version": "1.5.0",
            "_model_name": "HTMLModel",
            "_view_count": null,
            "_view_module": "@jupyter-widgets/controls",
            "_view_module_version": "1.5.0",
            "_view_name": "HTMLView",
            "description": "",
            "description_tooltip": null,
            "layout": "IPY_MODEL_20cc6d10f81d4931b55a20b4f10c8221",
            "placeholder": "​",
            "style": "IPY_MODEL_72723fb6eb29494d9e0cfa0e8b6442dd",
            "value": "Testing: 100%"
          }
        },
        "dbeb6d5d09fc45b8bb9f64d8a8b00e7c": {
          "model_module": "@jupyter-widgets/controls",
          "model_module_version": "1.5.0",
          "model_name": "DescriptionStyleModel",
          "state": {
            "_model_module": "@jupyter-widgets/controls",
            "_model_module_version": "1.5.0",
            "_model_name": "DescriptionStyleModel",
            "_view_count": null,
            "_view_module": "@jupyter-widgets/base",
            "_view_module_version": "1.2.0",
            "_view_name": "StyleView",
            "description_width": ""
          }
        },
        "e40339fd74f843b89926677751f6f104": {
          "model_module": "@jupyter-widgets/controls",
          "model_module_version": "1.5.0",
          "model_name": "FloatProgressModel",
          "state": {
            "_dom_classes": [],
            "_model_module": "@jupyter-widgets/controls",
            "_model_module_version": "1.5.0",
            "_model_name": "FloatProgressModel",
            "_view_count": null,
            "_view_module": "@jupyter-widgets/controls",
            "_view_module_version": "1.5.0",
            "_view_name": "ProgressView",
            "bar_style": "success",
            "description": "",
            "description_tooltip": null,
            "layout": "IPY_MODEL_a427c7911aea4d39b45200ad1868ab90",
            "max": 119,
            "min": 0,
            "orientation": "horizontal",
            "style": "IPY_MODEL_d2524d14949d4ea6bc1115ad0e4fc198",
            "value": 119
          }
        },
        "e45b365cffb64178ac7d522a265ea51f": {
          "model_module": "@jupyter-widgets/base",
          "model_module_version": "1.2.0",
          "model_name": "LayoutModel",
          "state": {
            "_model_module": "@jupyter-widgets/base",
            "_model_module_version": "1.2.0",
            "_model_name": "LayoutModel",
            "_view_count": null,
            "_view_module": "@jupyter-widgets/base",
            "_view_module_version": "1.2.0",
            "_view_name": "LayoutView",
            "align_content": null,
            "align_items": null,
            "align_self": null,
            "border": null,
            "bottom": null,
            "display": null,
            "flex": null,
            "flex_flow": null,
            "grid_area": null,
            "grid_auto_columns": null,
            "grid_auto_flow": null,
            "grid_auto_rows": null,
            "grid_column": null,
            "grid_gap": null,
            "grid_row": null,
            "grid_template_areas": null,
            "grid_template_columns": null,
            "grid_template_rows": null,
            "height": null,
            "justify_content": null,
            "justify_items": null,
            "left": null,
            "margin": null,
            "max_height": null,
            "max_width": null,
            "min_height": null,
            "min_width": null,
            "object_fit": null,
            "object_position": null,
            "order": null,
            "overflow": null,
            "overflow_x": null,
            "overflow_y": null,
            "padding": null,
            "right": null,
            "top": null,
            "visibility": null,
            "width": null
          }
        },
        "e7d5468bc1934d5c97b172a24e48faa3": {
          "model_module": "@jupyter-widgets/controls",
          "model_module_version": "1.5.0",
          "model_name": "FloatProgressModel",
          "state": {
            "_dom_classes": [],
            "_model_module": "@jupyter-widgets/controls",
            "_model_module_version": "1.5.0",
            "_model_name": "FloatProgressModel",
            "_view_count": null,
            "_view_module": "@jupyter-widgets/controls",
            "_view_module_version": "1.5.0",
            "_view_name": "ProgressView",
            "bar_style": "success",
            "description": "",
            "description_tooltip": null,
            "layout": "IPY_MODEL_e45b365cffb64178ac7d522a265ea51f",
            "max": 1066,
            "min": 0,
            "orientation": "horizontal",
            "style": "IPY_MODEL_381673bdda9b4a829ee976ff8c005025",
            "value": 1066
          }
        },
        "ed8fa5b48922415b9258f191593c6c83": {
          "model_module": "@jupyter-widgets/base",
          "model_module_version": "1.2.0",
          "model_name": "LayoutModel",
          "state": {
            "_model_module": "@jupyter-widgets/base",
            "_model_module_version": "1.2.0",
            "_model_name": "LayoutModel",
            "_view_count": null,
            "_view_module": "@jupyter-widgets/base",
            "_view_module_version": "1.2.0",
            "_view_name": "LayoutView",
            "align_content": null,
            "align_items": null,
            "align_self": null,
            "border": null,
            "bottom": null,
            "display": null,
            "flex": null,
            "flex_flow": null,
            "grid_area": null,
            "grid_auto_columns": null,
            "grid_auto_flow": null,
            "grid_auto_rows": null,
            "grid_column": null,
            "grid_gap": null,
            "grid_row": null,
            "grid_template_areas": null,
            "grid_template_columns": null,
            "grid_template_rows": null,
            "height": null,
            "justify_content": null,
            "justify_items": null,
            "left": null,
            "margin": null,
            "max_height": null,
            "max_width": null,
            "min_height": null,
            "min_width": null,
            "object_fit": null,
            "object_position": null,
            "order": null,
            "overflow": null,
            "overflow_x": null,
            "overflow_y": null,
            "padding": null,
            "right": null,
            "top": null,
            "visibility": null,
            "width": null
          }
        },
        "f366461fd9d1467e966750accd2d9acb": {
          "model_module": "@jupyter-widgets/controls",
          "model_module_version": "1.5.0",
          "model_name": "DescriptionStyleModel",
          "state": {
            "_model_module": "@jupyter-widgets/controls",
            "_model_module_version": "1.5.0",
            "_model_name": "DescriptionStyleModel",
            "_view_count": null,
            "_view_module": "@jupyter-widgets/base",
            "_view_module_version": "1.2.0",
            "_view_name": "StyleView",
            "description_width": ""
          }
        },
        "f69dca53090446908b3e6d408ee4450c": {
          "model_module": "@jupyter-widgets/controls",
          "model_module_version": "1.5.0",
          "model_name": "DescriptionStyleModel",
          "state": {
            "_model_module": "@jupyter-widgets/controls",
            "_model_module_version": "1.5.0",
            "_model_name": "DescriptionStyleModel",
            "_view_count": null,
            "_view_module": "@jupyter-widgets/base",
            "_view_module_version": "1.2.0",
            "_view_name": "StyleView",
            "description_width": ""
          }
        },
        "f702625c9b1742ac825cb7496e38a56d": {
          "model_module": "@jupyter-widgets/controls",
          "model_module_version": "1.5.0",
          "model_name": "DescriptionStyleModel",
          "state": {
            "_model_module": "@jupyter-widgets/controls",
            "_model_module_version": "1.5.0",
            "_model_name": "DescriptionStyleModel",
            "_view_count": null,
            "_view_module": "@jupyter-widgets/base",
            "_view_module_version": "1.2.0",
            "_view_name": "StyleView",
            "description_width": ""
          }
        },
        "f9c27a6d46774fd69e4dab4b99fef4ae": {
          "model_module": "@jupyter-widgets/controls",
          "model_module_version": "1.5.0",
          "model_name": "HBoxModel",
          "state": {
            "_dom_classes": [],
            "_model_module": "@jupyter-widgets/controls",
            "_model_module_version": "1.5.0",
            "_model_name": "HBoxModel",
            "_view_count": null,
            "_view_module": "@jupyter-widgets/controls",
            "_view_module_version": "1.5.0",
            "_view_name": "HBoxView",
            "box_style": "",
            "children": [
              "IPY_MODEL_d956d517b49647aba0063b8dc4de7fc8",
              "IPY_MODEL_686499dcfa4a472f864fd5df52d4b50e",
              "IPY_MODEL_07f79c3b490c4ee693b56bff737bbb7b"
            ],
            "layout": "IPY_MODEL_68dbfe926f574c2aa03e712231fa8eea"
          }
        },
        "ff4fa63a8ef545a9ab3f8ed40af1a347": {
          "model_module": "@jupyter-widgets/controls",
          "model_module_version": "1.5.0",
          "model_name": "HBoxModel",
          "state": {
            "_dom_classes": [],
            "_model_module": "@jupyter-widgets/controls",
            "_model_module_version": "1.5.0",
            "_model_name": "HBoxModel",
            "_view_count": null,
            "_view_module": "@jupyter-widgets/controls",
            "_view_module_version": "1.5.0",
            "_view_name": "HBoxView",
            "box_style": "",
            "children": [
              "IPY_MODEL_8b1975a903ae4cf3aa8978414b3ae1e7",
              "IPY_MODEL_c58bb67795ef43699546f23dea6612e7",
              "IPY_MODEL_0051001765c74f58b24f6e5879f5e4c7"
            ],
            "layout": "IPY_MODEL_a25ec04034724cc9b730f966f9680d83"
          }
        }
      }
    }
  },
  "nbformat": 4,
  "nbformat_minor": 0
}
